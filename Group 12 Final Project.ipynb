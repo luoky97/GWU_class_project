{
 "cells": [
  {
   "cell_type": "markdown",
   "metadata": {},
   "source": [
    "# ISTM 6212 - Final Project\n"
   ]
  },
  {
   "cell_type": "markdown",
   "metadata": {},
   "source": [
    "## Part 1 Data Selection"
   ]
  },
  {
   "cell_type": "markdown",
   "metadata": {},
   "source": [
    "Source of the dataset: https://controllerdata.lacity.org/Payroll/City-Employee-Payroll/pazn-qyym\n",
    "\n",
    "The dataset we are using is called \"(Los Angeles) City Employee Payroll\", which contains the payroll information of over 40 departments in the City of Los Angeles. Detailedly, this dataset recorded employees' base salary, bonus and healthcare benefit from 2013 to 2018. Based on this dataset, we would like to find out how salaries vary in departments and in job classes. We also will focus on exploring the healthcare benefits employees received in some departments.\n",
    "\n",
    "At first glace, this dataset looks messy and has plenty of missing values, so we are expecting to spend fairly long time wrangling the data.\n"
   ]
  },
  {
   "cell_type": "markdown",
   "metadata": {},
   "source": [
    "## Part 2 Wrangling\n",
    "To wrangle our raw dataset, we used mostly Trifacta, followed with a littble bit SQL. \n",
    "The original csv file was 115.7 MB, which exceeded the size limit in Trifacta; therefore, in order to reduce its size to under 100 MB, we manually deleted the last column \"Job Class Link\", which contained hyperlinks to job class descriptions.We then upload our dataset onto Trifacta. \n",
    "\n",
    "First we deleted some unnecessary columns, these columns are either not related to our project goal such as benefit plan, or not have enough explaination about what the actual number means. \n",
    "We then changed some column type, for instance, we changed the \"Temporary Bonus Pay\" column from string to decimal. \n",
    "\n",
    "We also found that all the rows belong to the \"Water and Power\" department does not have a department key. Rather than deleting all those rows, we decided to assign one key (\"1234\") for this department. \n",
    "After that, we merged some department category. We found serveral category are exactaly the same but listed separatly such as \"Police (LAPD)\". Then we adjusted the Dept_Key column to make sure one key belongs to one department only. We did the exact same thing for the \"job_class_key\" column to make sure one key belongs to one job class title only. This is very important for us since these two category are going to be our dimension table. \n",
    "\n",
    "Last but not least, we did our final Data Check that avoided all typos, unify all upper and lower case."
   ]
  },
  {
   "cell_type": "markdown",
   "metadata": {},
   "source": [
    "#### Explore the wrangled dataset"
   ]
  },
  {
   "cell_type": "code",
   "execution_count": null,
   "metadata": {},
   "outputs": [],
   "source": [
    "!wget https://s3.amazonaws.com/istm6212final/City_Employee_Payroll+_wrangled.csv"
   ]
  },
  {
   "cell_type": "code",
   "execution_count": null,
   "metadata": {},
   "outputs": [],
   "source": [
    "!mv City_Employee_Payroll+_wrangled.csv payroll.csv"
   ]
  },
  {
   "cell_type": "code",
   "execution_count": null,
   "metadata": {},
   "outputs": [],
   "source": [
    "!head -n 5 payroll.csv"
   ]
  },
  {
   "cell_type": "code",
   "execution_count": 4,
   "metadata": {},
   "outputs": [
    {
     "name": "stdout",
     "output_type": "stream",
     "text": [
      "369712 payroll.csv\n"
     ]
    }
   ],
   "source": [
    "!wc -l payroll.csv"
   ]
  },
  {
   "cell_type": "code",
   "execution_count": null,
   "metadata": {},
   "outputs": [],
   "source": [
    "!head -n 10000 payroll.csv | csvstat"
   ]
  },
  {
   "cell_type": "markdown",
   "metadata": {},
   "source": [
    "## Part 3 Analysis\n",
    "First of all, we would like to introduce columns in the wrangled dataset:\n",
    "* rec_id: Unique Identifier for each row\n",
    "* year: calendar year\n",
    "* dept_title: Title of City Department\n",
    "* dept_key: Department Number in City Payroll System\n",
    "* job_class_title: Title of job class\n",
    "* job_class_key: Unique Identifier for each job class\n",
    "* emp_type: Employment Type - Full Time, Part Time, or Per Event\n",
    "* hourly_rate: Hourly Earnings Rate or Per Event Rate based on Projected Annual Salary\n",
    "* projected_annual_sal: Budgeted pay amount. Used for pension contribution calculations\n",
    "* total_pay: Total earnings for the year\n",
    "* base_pay: Base compensation for hours worked\n",
    "* perm_bonus: Payments attributable to permanent bonuses; typically pensionable\n",
    "* temp_bonus: Payments attributable to temporary bonuses; typically not pensionable\n",
    "* long_bonus: Payments attributable to years of service; typically pensionable\n",
    "* lump_sum: Lump sum payouts for special purposes - retirement payouts, back pay, etc.; typically not pensionable\n",
    "* ot_pay: Payments attributable to hours worked beyond regular work schedule\n",
    "* other_n_adj: Payments based on other pay codes or adjustments that do not fall into another category\n",
    "* other_sum: sum of \"perm_bonus\", \"temp_bonus\", \"long_bonus\", \"lump_sum\", \"ot_pay\", \"other_n_adj\"\n",
    "* avg_health_cost: Average cost to the City to provide health care to the employee\n",
    "* avg_dental_cost: Average cost to the City to provide dental care to the employee\n",
    "* avg_basic_life: Average cost to the City to provide basic life insurance to the employee\n",
    "* avg_bf_cost: The total average City contribution for the employee's health care, dental care and life insurance\n",
    "\n"
   ]
  },
  {
   "cell_type": "markdown",
   "metadata": {},
   "source": [
    "### Schema\n",
    "We designed a schema that has three fact tables:\n",
    "* salary_fact\n",
    "* others_fact\n",
    "* healthcare_fact\n",
    "\n",
    "Two dimension tables:\n",
    "* payroll_dept\n",
    "* job_class"
   ]
  },
  {
   "cell_type": "code",
   "execution_count": 36,
   "metadata": {},
   "outputs": [
    {
     "data": {
      "text/html": [
       "<img src=\"https://s3.amazonaws.com/istm6212final/schema.png\"/>"
      ],
      "text/plain": [
       "<IPython.core.display.Image object>"
      ]
     },
     "execution_count": 36,
     "metadata": {},
     "output_type": "execute_result"
    }
   ],
   "source": [
    "from IPython.display import Image\n",
    "Image(url=\"https://s3.amazonaws.com/istm6212final/schema.png\")  "
   ]
  },
  {
   "cell_type": "markdown",
   "metadata": {},
   "source": [
    "#### Set up working enviornment"
   ]
  },
  {
   "cell_type": "code",
   "execution_count": 1,
   "metadata": {},
   "outputs": [],
   "source": [
    "%load_ext sql"
   ]
  },
  {
   "cell_type": "code",
   "execution_count": 2,
   "metadata": {},
   "outputs": [],
   "source": [
    "!dropdb -U student final_proj"
   ]
  },
  {
   "cell_type": "code",
   "execution_count": 3,
   "metadata": {},
   "outputs": [],
   "source": [
    "!createdb -U student final_proj"
   ]
  },
  {
   "cell_type": "code",
   "execution_count": 4,
   "metadata": {},
   "outputs": [
    {
     "data": {
      "text/plain": [
       "'Connected: student@final_proj'"
      ]
     },
     "execution_count": 4,
     "metadata": {},
     "output_type": "execute_result"
    }
   ],
   "source": [
    "%sql postgresql://student@/final_proj"
   ]
  },
  {
   "cell_type": "code",
   "execution_count": 5,
   "metadata": {},
   "outputs": [],
   "source": [
    "import pandas as pd\n",
    "import seaborn as sns\n",
    "import matplotlib.pyplot as plt"
   ]
  },
  {
   "cell_type": "code",
   "execution_count": 6,
   "metadata": {},
   "outputs": [],
   "source": [
    "from sqlalchemy import create_engine\n",
    "engine = create_engine('postgresql://student@/final_proj')"
   ]
  },
  {
   "cell_type": "markdown",
   "metadata": {},
   "source": [
    "#### Create and populate table \"raw\" that contains the whole dataset"
   ]
  },
  {
   "cell_type": "code",
   "execution_count": 7,
   "metadata": {},
   "outputs": [
    {
     "name": "stdout",
     "output_type": "stream",
     "text": [
      " * postgresql://student@/final_proj\n",
      "Done.\n",
      "Done.\n"
     ]
    },
    {
     "data": {
      "text/plain": [
       "[]"
      ]
     },
     "execution_count": 7,
     "metadata": {},
     "output_type": "execute_result"
    }
   ],
   "source": [
    "%%sql\n",
    "DROP TABLE IF EXISTS raw;\n",
    "\n",
    "CREATE TABLE raw (\n",
    "    row_id VARCHAR,\n",
    "    year VARCHAR,\n",
    "    dept_title VARCHAR,\n",
    "    dept_key VARCHAR,\n",
    "    job_class_title VARCHAR,\n",
    "    emp_type VARCHAR,\n",
    "    hourly_rate NUMERIC,\n",
    "    projected_annual_sal NUMERIC,\n",
    "    total_pay NUMERIC,\n",
    "    base_pay NUMERIC,\n",
    "    perm_bonus NUMERIC,\n",
    "    long_bonus NUMERIC,\n",
    "    temp_bonus NUMERIC,\n",
    "    lump_sum NUMERIC,\n",
    "    ot_pay NUMERIC,\n",
    "    other_n_adj NUMERIC,\n",
    "    other_sum NUMERIC,\n",
    "    job_class_id VARCHAR,\n",
    "    avg_health_cost NUMERIC,\n",
    "    avg_dental_cost NUMERIC,\n",
    "    avg_basic_life NUMERIC,\n",
    "    avg_bf_cost NUMERIC\n",
    ")"
   ]
  },
  {
   "cell_type": "code",
   "execution_count": 8,
   "metadata": {},
   "outputs": [],
   "source": [
    "!cp payroll.csv /tmp/payroll.csv"
   ]
  },
  {
   "cell_type": "code",
   "execution_count": 9,
   "metadata": {},
   "outputs": [
    {
     "name": "stdout",
     "output_type": "stream",
     "text": [
      " * postgresql://student@/final_proj\n",
      "369712 rows affected.\n"
     ]
    },
    {
     "data": {
      "text/plain": [
       "[]"
      ]
     },
     "execution_count": 9,
     "metadata": {},
     "output_type": "execute_result"
    }
   ],
   "source": [
    "%%sql\n",
    "COPY raw FROM '/tmp/payroll.csv'\n",
    "CSV\n",
    "HEADER;"
   ]
  },
  {
   "cell_type": "code",
   "execution_count": 10,
   "metadata": {},
   "outputs": [
    {
     "name": "stdout",
     "output_type": "stream",
     "text": [
      " * postgresql://student@/final_proj\n",
      "5 rows affected.\n"
     ]
    },
    {
     "data": {
      "text/html": [
       "<table>\n",
       "    <tr>\n",
       "        <th>row_id</th>\n",
       "        <th>year</th>\n",
       "        <th>dept_title</th>\n",
       "        <th>dept_key</th>\n",
       "        <th>job_class_title</th>\n",
       "        <th>emp_type</th>\n",
       "        <th>hourly_rate</th>\n",
       "        <th>projected_annual_sal</th>\n",
       "        <th>total_pay</th>\n",
       "        <th>base_pay</th>\n",
       "        <th>perm_bonus</th>\n",
       "        <th>long_bonus</th>\n",
       "        <th>temp_bonus</th>\n",
       "        <th>lump_sum</th>\n",
       "        <th>ot_pay</th>\n",
       "        <th>other_n_adj</th>\n",
       "        <th>other_sum</th>\n",
       "        <th>job_class_id</th>\n",
       "        <th>avg_health_cost</th>\n",
       "        <th>avg_dental_cost</th>\n",
       "        <th>avg_basic_life</th>\n",
       "        <th>avg_bf_cost</th>\n",
       "    </tr>\n",
       "    <tr>\n",
       "        <td>3-1002364863ctFu</td>\n",
       "        <td>2013</td>\n",
       "        <td>Airports</td>\n",
       "        <td>101</td>\n",
       "        <td>Airport Police Officer II</td>\n",
       "        <td>Full Time</td>\n",
       "        <td>42.02</td>\n",
       "        <td>87743.24</td>\n",
       "        <td>90327.64</td>\n",
       "        <td>77853.6</td>\n",
       "        <td>5247.28</td>\n",
       "        <td>0</td>\n",
       "        <td>1233</td>\n",
       "        <td>0</td>\n",
       "        <td>2290.25</td>\n",
       "        <td>3703.51</td>\n",
       "        <td>12474.04</td>\n",
       "        <td>3225</td>\n",
       "        <td>10710.24</td>\n",
       "        <td>405.24</td>\n",
       "        <td>11.4</td>\n",
       "        <td>11126.88</td>\n",
       "    </tr>\n",
       "    <tr>\n",
       "        <td>3-1003323903ctFu</td>\n",
       "        <td>2013</td>\n",
       "        <td>Harbor</td>\n",
       "        <td>3201</td>\n",
       "        <td>Senior Clerk Typist III</td>\n",
       "        <td>Full Time</td>\n",
       "        <td>36.61</td>\n",
       "        <td>76435.42</td>\n",
       "        <td>83292.44</td>\n",
       "        <td>66602.77</td>\n",
       "        <td>3763.83</td>\n",
       "        <td>1831.54</td>\n",
       "        <td>780</td>\n",
       "        <td>0</td>\n",
       "        <td>10314.3</td>\n",
       "        <td>0</td>\n",
       "        <td>16689.67</td>\n",
       "        <td>1368</td>\n",
       "        <td>10710.24</td>\n",
       "        <td>405.24</td>\n",
       "        <td>11.4</td>\n",
       "        <td>11126.88</td>\n",
       "    </tr>\n",
       "    <tr>\n",
       "        <td>3-1018738090ctPa</td>\n",
       "        <td>2013</td>\n",
       "        <td>Recreation And Parks</td>\n",
       "        <td>7900</td>\n",
       "        <td>Recreation Assistant</td>\n",
       "        <td>Part Time</td>\n",
       "        <td>14.79</td>\n",
       "        <td>30881.52</td>\n",
       "        <td>14472.78</td>\n",
       "        <td>13572.1</td>\n",
       "        <td>0</td>\n",
       "        <td>375.68</td>\n",
       "        <td>0</td>\n",
       "        <td>0</td>\n",
       "        <td>0</td>\n",
       "        <td>525</td>\n",
       "        <td>900.68</td>\n",
       "        <td>2498</td>\n",
       "        <td>0</td>\n",
       "        <td>0</td>\n",
       "        <td>0</td>\n",
       "        <td>0</td>\n",
       "    </tr>\n",
       "    <tr>\n",
       "        <td>3-1047146194ctFu</td>\n",
       "        <td>2013</td>\n",
       "        <td>Police</td>\n",
       "        <td>4301</td>\n",
       "        <td>Police Detective I</td>\n",
       "        <td>Full Time</td>\n",
       "        <td>52.21</td>\n",
       "        <td>109023.62</td>\n",
       "        <td>108126.96</td>\n",
       "        <td>100972.84</td>\n",
       "        <td>6029.12</td>\n",
       "        <td>0</td>\n",
       "        <td>1025</td>\n",
       "        <td>0</td>\n",
       "        <td>0</td>\n",
       "        <td>100</td>\n",
       "        <td>7154.12</td>\n",
       "        <td>2223</td>\n",
       "        <td>11651.4</td>\n",
       "        <td>898.08</td>\n",
       "        <td>191.04</td>\n",
       "        <td>12740.52</td>\n",
       "    </tr>\n",
       "    <tr>\n",
       "        <td>3-1056989226ctFu</td>\n",
       "        <td>2013</td>\n",
       "        <td>Police</td>\n",
       "        <td>4301</td>\n",
       "        <td>Police Detective II</td>\n",
       "        <td>Full Time</td>\n",
       "        <td>53.68</td>\n",
       "        <td>112083.84</td>\n",
       "        <td>111378.99</td>\n",
       "        <td>105703.89</td>\n",
       "        <td>4234.51</td>\n",
       "        <td>0</td>\n",
       "        <td>1389</td>\n",
       "        <td>0</td>\n",
       "        <td>0</td>\n",
       "        <td>51.59</td>\n",
       "        <td>5675.1</td>\n",
       "        <td>2223</td>\n",
       "        <td>11651.4</td>\n",
       "        <td>898.08</td>\n",
       "        <td>191.04</td>\n",
       "        <td>12740.52</td>\n",
       "    </tr>\n",
       "</table>"
      ],
      "text/plain": [
       "[('3-1002364863ctFu', '2013', 'Airports', '101', 'Airport Police Officer II', 'Full Time', Decimal('42.02'), Decimal('87743.24'), Decimal('90327.64'), Decimal('77853.6'), Decimal('5247.28'), Decimal('0'), Decimal('1233'), Decimal('0'), Decimal('2290.25'), Decimal('3703.51'), Decimal('12474.04'), '3225', Decimal('10710.24'), Decimal('405.24'), Decimal('11.4'), Decimal('11126.88')),\n",
       " ('3-1003323903ctFu', '2013', 'Harbor', '3201', 'Senior Clerk Typist III', 'Full Time', Decimal('36.61'), Decimal('76435.42'), Decimal('83292.44'), Decimal('66602.77'), Decimal('3763.83'), Decimal('1831.54'), Decimal('780'), Decimal('0'), Decimal('10314.3'), Decimal('0'), Decimal('16689.67'), '1368', Decimal('10710.24'), Decimal('405.24'), Decimal('11.4'), Decimal('11126.88')),\n",
       " ('3-1018738090ctPa', '2013', 'Recreation And Parks', '7900', 'Recreation Assistant', 'Part Time', Decimal('14.79'), Decimal('30881.52'), Decimal('14472.78'), Decimal('13572.1'), Decimal('0'), Decimal('375.68'), Decimal('0'), Decimal('0'), Decimal('0'), Decimal('525'), Decimal('900.68'), '2498', Decimal('0'), Decimal('0'), Decimal('0'), Decimal('0')),\n",
       " ('3-1047146194ctFu', '2013', 'Police', '4301', 'Police Detective I', 'Full Time', Decimal('52.21'), Decimal('109023.62'), Decimal('108126.96'), Decimal('100972.84'), Decimal('6029.12'), Decimal('0'), Decimal('1025'), Decimal('0'), Decimal('0'), Decimal('100'), Decimal('7154.12'), '2223', Decimal('11651.4'), Decimal('898.08'), Decimal('191.04'), Decimal('12740.52')),\n",
       " ('3-1056989226ctFu', '2013', 'Police', '4301', 'Police Detective II', 'Full Time', Decimal('53.68'), Decimal('112083.84'), Decimal('111378.99'), Decimal('105703.89'), Decimal('4234.51'), Decimal('0'), Decimal('1389'), Decimal('0'), Decimal('0'), Decimal('51.59'), Decimal('5675.1'), '2223', Decimal('11651.4'), Decimal('898.08'), Decimal('191.04'), Decimal('12740.52'))]"
      ]
     },
     "execution_count": 10,
     "metadata": {},
     "output_type": "execute_result"
    }
   ],
   "source": [
    "%%sql\n",
    "SELECT * FROM raw\n",
    "LIMIT 5;"
   ]
  },
  {
   "cell_type": "markdown",
   "metadata": {},
   "source": [
    "#### Build the first dimension table \"payroll_dept\""
   ]
  },
  {
   "cell_type": "code",
   "execution_count": 11,
   "metadata": {},
   "outputs": [
    {
     "name": "stdout",
     "output_type": "stream",
     "text": [
      " * postgresql://student@/final_proj\n",
      "Done.\n",
      "Done.\n"
     ]
    },
    {
     "data": {
      "text/plain": [
       "[]"
      ]
     },
     "execution_count": 11,
     "metadata": {},
     "output_type": "execute_result"
    }
   ],
   "source": [
    "%%sql\n",
    "DROP TABLE IF EXISTS payroll_dept;\n",
    "\n",
    "CREATE TABLE payroll_dept(\n",
    "    dept_key VARCHAR PRIMARY KEY NOT NULL,\n",
    "    dept_title VARCHAR\n",
    ")\n"
   ]
  },
  {
   "cell_type": "code",
   "execution_count": 12,
   "metadata": {},
   "outputs": [
    {
     "name": "stdout",
     "output_type": "stream",
     "text": [
      " * postgresql://student@/final_proj\n",
      "48 rows affected.\n"
     ]
    },
    {
     "data": {
      "text/plain": [
       "[]"
      ]
     },
     "execution_count": 12,
     "metadata": {},
     "output_type": "execute_result"
    }
   ],
   "source": [
    "%%sql\n",
    "INSERT INTO payroll_dept\n",
    "SELECT DISTINCT r.dept_key, r.dept_title\n",
    "FROM raw AS r"
   ]
  },
  {
   "cell_type": "code",
   "execution_count": 13,
   "metadata": {},
   "outputs": [
    {
     "name": "stdout",
     "output_type": "stream",
     "text": [
      " * postgresql://student@/final_proj\n",
      "10 rows affected.\n"
     ]
    },
    {
     "data": {
      "text/html": [
       "<table>\n",
       "    <tr>\n",
       "        <th>dept_key</th>\n",
       "        <th>dept_title</th>\n",
       "    </tr>\n",
       "    <tr>\n",
       "        <td>3701</td>\n",
       "        <td>Environmental Affairs</td>\n",
       "    </tr>\n",
       "    <tr>\n",
       "        <td>4701</td>\n",
       "        <td>Neighborhood Empowerment</td>\n",
       "    </tr>\n",
       "    <tr>\n",
       "        <td>7001</td>\n",
       "        <td>Public Works - Sanitation</td>\n",
       "    </tr>\n",
       "    <tr>\n",
       "        <td>1234</td>\n",
       "        <td>Water And Power (DWP)</td>\n",
       "    </tr>\n",
       "    <tr>\n",
       "        <td>2001</td>\n",
       "        <td>Personnel</td>\n",
       "    </tr>\n",
       "    <tr>\n",
       "        <td>2801</td>\n",
       "        <td>Council District</td>\n",
       "    </tr>\n",
       "    <tr>\n",
       "        <td>2901</td>\n",
       "        <td>Employee Relations Board</td>\n",
       "    </tr>\n",
       "    <tr>\n",
       "        <td>8701</td>\n",
       "        <td>Zoo</td>\n",
       "    </tr>\n",
       "    <tr>\n",
       "        <td>2701</td>\n",
       "        <td>Information Technology Agency</td>\n",
       "    </tr>\n",
       "    <tr>\n",
       "        <td>3301</td>\n",
       "        <td>General Services</td>\n",
       "    </tr>\n",
       "</table>"
      ],
      "text/plain": [
       "[('3701', 'Environmental Affairs'),\n",
       " ('4701', 'Neighborhood Empowerment'),\n",
       " ('7001', 'Public Works - Sanitation'),\n",
       " ('1234', 'Water And Power (DWP)'),\n",
       " ('2001', 'Personnel'),\n",
       " ('2801', 'Council District'),\n",
       " ('2901', 'Employee Relations Board'),\n",
       " ('8701', 'Zoo'),\n",
       " ('2701', 'Information Technology Agency'),\n",
       " ('3301', 'General Services')]"
      ]
     },
     "execution_count": 13,
     "metadata": {},
     "output_type": "execute_result"
    }
   ],
   "source": [
    "%%sql\n",
    "SELECT * FROM payroll_dept\n",
    "LIMIT 10;"
   ]
  },
  {
   "cell_type": "markdown",
   "metadata": {},
   "source": [
    "#### Build the second dimension table \"job_class\"\n",
    "\n",
    "While building this table, we encounted a tricky issue that one job_class_key could match several job class titles that all represented the same thing but in different abbreviations. Therefore, we modified the job class titles under each job_class_key all to the one with the shortest length."
   ]
  },
  {
   "cell_type": "code",
   "execution_count": 14,
   "metadata": {},
   "outputs": [
    {
     "name": "stdout",
     "output_type": "stream",
     "text": [
      " * postgresql://student@/final_proj\n",
      "Done.\n",
      "Done.\n"
     ]
    },
    {
     "data": {
      "text/plain": [
       "[]"
      ]
     },
     "execution_count": 14,
     "metadata": {},
     "output_type": "execute_result"
    }
   ],
   "source": [
    "%%sql\n",
    "DROP TABLE IF EXISTS job_c;\n",
    "\n",
    "CREATE TABLE job_c(\n",
    "    job_class_key VARCHAR NOT NULL,\n",
    "    job_class_title VARCHAR,\n",
    "    title_length NUMERIC\n",
    ")"
   ]
  },
  {
   "cell_type": "code",
   "execution_count": 15,
   "metadata": {},
   "outputs": [
    {
     "name": "stdout",
     "output_type": "stream",
     "text": [
      " * postgresql://student@/final_proj\n",
      "1775 rows affected.\n"
     ]
    },
    {
     "data": {
      "text/plain": [
       "[]"
      ]
     },
     "execution_count": 15,
     "metadata": {},
     "output_type": "execute_result"
    }
   ],
   "source": [
    "%%sql\n",
    "INSERT INTO job_c\n",
    "SELECT DISTINCT r.job_class_id, r.job_class_title, LENGTH(r.job_class_title)\n",
    "FROM raw AS r"
   ]
  },
  {
   "cell_type": "code",
   "execution_count": 16,
   "metadata": {},
   "outputs": [],
   "source": [
    "job_c = pd.read_sql_query('select * from \"job_c\"',con=engine)"
   ]
  },
  {
   "cell_type": "code",
   "execution_count": 17,
   "metadata": {},
   "outputs": [
    {
     "data": {
      "text/html": [
       "<div>\n",
       "<style scoped>\n",
       "    .dataframe tbody tr th:only-of-type {\n",
       "        vertical-align: middle;\n",
       "    }\n",
       "\n",
       "    .dataframe tbody tr th {\n",
       "        vertical-align: top;\n",
       "    }\n",
       "\n",
       "    .dataframe thead th {\n",
       "        text-align: right;\n",
       "    }\n",
       "</style>\n",
       "<table border=\"1\" class=\"dataframe\">\n",
       "  <thead>\n",
       "    <tr style=\"text-align: right;\">\n",
       "      <th></th>\n",
       "      <th>job_class_key</th>\n",
       "      <th>job_class_title</th>\n",
       "      <th>title_length</th>\n",
       "    </tr>\n",
       "  </thead>\n",
       "  <tbody>\n",
       "    <tr>\n",
       "      <th>0</th>\n",
       "      <td>1964</td>\n",
       "      <td>Property Manager III</td>\n",
       "      <td>20.0</td>\n",
       "    </tr>\n",
       "    <tr>\n",
       "      <th>1</th>\n",
       "      <td>1431</td>\n",
       "      <td>Programmer Analyst</td>\n",
       "      <td>18.0</td>\n",
       "    </tr>\n",
       "    <tr>\n",
       "      <th>2</th>\n",
       "      <td>1627</td>\n",
       "      <td>Police Performance Auditor II</td>\n",
       "      <td>29.0</td>\n",
       "    </tr>\n",
       "    <tr>\n",
       "      <th>3</th>\n",
       "      <td>962</td>\n",
       "      <td>Construction Plasterer</td>\n",
       "      <td>22.0</td>\n",
       "    </tr>\n",
       "    <tr>\n",
       "      <th>4</th>\n",
       "      <td>3115</td>\n",
       "      <td>Maintenance And Construction Helper</td>\n",
       "      <td>35.0</td>\n",
       "    </tr>\n",
       "  </tbody>\n",
       "</table>\n",
       "</div>"
      ],
      "text/plain": [
       "  job_class_key                      job_class_title  title_length\n",
       "0          1964                 Property Manager III          20.0\n",
       "1          1431                   Programmer Analyst          18.0\n",
       "2          1627        Police Performance Auditor II          29.0\n",
       "3           962               Construction Plasterer          22.0\n",
       "4          3115  Maintenance And Construction Helper          35.0"
      ]
     },
     "execution_count": 17,
     "metadata": {},
     "output_type": "execute_result"
    }
   ],
   "source": [
    "job_c.head()"
   ]
  },
  {
   "cell_type": "code",
   "execution_count": 18,
   "metadata": {},
   "outputs": [],
   "source": [
    "job_c = job_c.groupby('job_class_key', group_keys=False).\\\n",
    "        apply(lambda x: x.loc[x.title_length.idxmin()])"
   ]
  },
  {
   "cell_type": "code",
   "execution_count": 19,
   "metadata": {},
   "outputs": [],
   "source": [
    "job_c.to_sql('job_c', engine, if_exists = 'replace', index=False)"
   ]
  },
  {
   "cell_type": "code",
   "execution_count": 20,
   "metadata": {},
   "outputs": [
    {
     "name": "stdout",
     "output_type": "stream",
     "text": [
      " * postgresql://student@/final_proj\n",
      "10 rows affected.\n"
     ]
    },
    {
     "data": {
      "text/html": [
       "<table>\n",
       "    <tr>\n",
       "        <th>job_class_key</th>\n",
       "        <th>job_class_title</th>\n",
       "        <th>title_length</th>\n",
       "    </tr>\n",
       "    <tr>\n",
       "        <td>1</td>\n",
       "        <td>Controller</td>\n",
       "        <td>10.0</td>\n",
       "    </tr>\n",
       "    <tr>\n",
       "        <td>10</td>\n",
       "        <td>City Administrative Officer</td>\n",
       "        <td>27.0</td>\n",
       "    </tr>\n",
       "    <tr>\n",
       "        <td>101</td>\n",
       "        <td>Commissioner</td>\n",
       "        <td>12.0</td>\n",
       "    </tr>\n",
       "    <tr>\n",
       "        <td>102</td>\n",
       "        <td>Commission Hearing Examiner</td>\n",
       "        <td>27.0</td>\n",
       "    </tr>\n",
       "    <tr>\n",
       "        <td>106</td>\n",
       "        <td>Member Rent Adjustment Commission</td>\n",
       "        <td>33.0</td>\n",
       "    </tr>\n",
       "    <tr>\n",
       "        <td>107</td>\n",
       "        <td>Member Employee Relations Board</td>\n",
       "        <td>31.0</td>\n",
       "    </tr>\n",
       "    <tr>\n",
       "        <td>11</td>\n",
       "        <td>ASSISTANT CITY ADMIN OFFICER</td>\n",
       "        <td>28.0</td>\n",
       "    </tr>\n",
       "    <tr>\n",
       "        <td>1101</td>\n",
       "        <td>Office Trainee</td>\n",
       "        <td>14.0</td>\n",
       "    </tr>\n",
       "    <tr>\n",
       "        <td>1107</td>\n",
       "        <td>Plant Equipment Trainee</td>\n",
       "        <td>23.0</td>\n",
       "    </tr>\n",
       "    <tr>\n",
       "        <td>1110</td>\n",
       "        <td>Utility Pre-craft Trainee</td>\n",
       "        <td>25.0</td>\n",
       "    </tr>\n",
       "</table>"
      ],
      "text/plain": [
       "[('1', 'Controller', 10.0),\n",
       " ('10', 'City Administrative Officer', 27.0),\n",
       " ('101', 'Commissioner', 12.0),\n",
       " ('102', 'Commission Hearing Examiner', 27.0),\n",
       " ('106', 'Member Rent Adjustment Commission', 33.0),\n",
       " ('107', 'Member Employee Relations Board', 31.0),\n",
       " ('11', 'ASSISTANT CITY ADMIN OFFICER', 28.0),\n",
       " ('1101', 'Office Trainee', 14.0),\n",
       " ('1107', 'Plant Equipment Trainee', 23.0),\n",
       " ('1110', 'Utility Pre-craft Trainee', 25.0)]"
      ]
     },
     "execution_count": 20,
     "metadata": {},
     "output_type": "execute_result"
    }
   ],
   "source": [
    "%%sql\n",
    "SELECT * FROM job_c\n",
    "LIMIT 10;"
   ]
  },
  {
   "cell_type": "code",
   "execution_count": 21,
   "metadata": {},
   "outputs": [
    {
     "name": "stdout",
     "output_type": "stream",
     "text": [
      " * postgresql://student@/final_proj\n",
      "Done.\n",
      "Done.\n"
     ]
    },
    {
     "data": {
      "text/plain": [
       "[]"
      ]
     },
     "execution_count": 21,
     "metadata": {},
     "output_type": "execute_result"
    }
   ],
   "source": [
    "%%sql\n",
    "DROP TABLE IF EXISTS job_class;\n",
    "\n",
    "CREATE TABLE job_class(\n",
    "    job_class_key VARCHAR PRIMARY KEY NOT NULL,\n",
    "    job_class_title VARCHAR\n",
    ")"
   ]
  },
  {
   "cell_type": "code",
   "execution_count": 22,
   "metadata": {},
   "outputs": [
    {
     "name": "stdout",
     "output_type": "stream",
     "text": [
      " * postgresql://student@/final_proj\n",
      "1176 rows affected.\n"
     ]
    },
    {
     "data": {
      "text/plain": [
       "[]"
      ]
     },
     "execution_count": 22,
     "metadata": {},
     "output_type": "execute_result"
    }
   ],
   "source": [
    "%%sql\n",
    "INSERT INTO job_class\n",
    "SELECT DISTINCT c.job_class_key, c.job_class_title\n",
    "FROM job_c AS c"
   ]
  },
  {
   "cell_type": "code",
   "execution_count": 23,
   "metadata": {},
   "outputs": [
    {
     "name": "stdout",
     "output_type": "stream",
     "text": [
      " * postgresql://student@/final_proj\n",
      "10 rows affected.\n"
     ]
    },
    {
     "data": {
      "text/html": [
       "<table>\n",
       "    <tr>\n",
       "        <th>job_class_key</th>\n",
       "        <th>job_class_title</th>\n",
       "    </tr>\n",
       "    <tr>\n",
       "        <td>1</td>\n",
       "        <td>Controller</td>\n",
       "    </tr>\n",
       "    <tr>\n",
       "        <td>10</td>\n",
       "        <td>City Administrative Officer</td>\n",
       "    </tr>\n",
       "    <tr>\n",
       "        <td>101</td>\n",
       "        <td>Commissioner</td>\n",
       "    </tr>\n",
       "    <tr>\n",
       "        <td>102</td>\n",
       "        <td>Commission Hearing Examiner</td>\n",
       "    </tr>\n",
       "    <tr>\n",
       "        <td>106</td>\n",
       "        <td>Member Rent Adjustment Commission</td>\n",
       "    </tr>\n",
       "    <tr>\n",
       "        <td>107</td>\n",
       "        <td>Member Employee Relations Board</td>\n",
       "    </tr>\n",
       "    <tr>\n",
       "        <td>11</td>\n",
       "        <td>ASSISTANT CITY ADMIN OFFICER</td>\n",
       "    </tr>\n",
       "    <tr>\n",
       "        <td>1101</td>\n",
       "        <td>Office Trainee</td>\n",
       "    </tr>\n",
       "    <tr>\n",
       "        <td>1107</td>\n",
       "        <td>Plant Equipment Trainee</td>\n",
       "    </tr>\n",
       "    <tr>\n",
       "        <td>1110</td>\n",
       "        <td>Utility Pre-craft Trainee</td>\n",
       "    </tr>\n",
       "</table>"
      ],
      "text/plain": [
       "[('1', 'Controller'),\n",
       " ('10', 'City Administrative Officer'),\n",
       " ('101', 'Commissioner'),\n",
       " ('102', 'Commission Hearing Examiner'),\n",
       " ('106', 'Member Rent Adjustment Commission'),\n",
       " ('107', 'Member Employee Relations Board'),\n",
       " ('11', 'ASSISTANT CITY ADMIN OFFICER'),\n",
       " ('1101', 'Office Trainee'),\n",
       " ('1107', 'Plant Equipment Trainee'),\n",
       " ('1110', 'Utility Pre-craft Trainee')]"
      ]
     },
     "execution_count": 23,
     "metadata": {},
     "output_type": "execute_result"
    }
   ],
   "source": [
    "%%sql\n",
    "SELECT * FROM job_class\n",
    "ORDER BY job_class_key\n",
    "LIMIT 10;"
   ]
  },
  {
   "cell_type": "markdown",
   "metadata": {},
   "source": [
    "### Build fact table \"salary_fact\""
   ]
  },
  {
   "cell_type": "code",
   "execution_count": 24,
   "metadata": {},
   "outputs": [
    {
     "name": "stdout",
     "output_type": "stream",
     "text": [
      " * postgresql://student@/final_proj\n",
      "Done.\n",
      "Done.\n"
     ]
    },
    {
     "data": {
      "text/plain": [
       "[]"
      ]
     },
     "execution_count": 24,
     "metadata": {},
     "output_type": "execute_result"
    }
   ],
   "source": [
    "%%sql\n",
    "DROP TABLE IF EXISTS salary_fact;\n",
    "\n",
    "CREATE TABLE salary_fact(\n",
    "    rec_id VARCHAR PRIMARY KEY NOT NULL,\n",
    "    year VARCHAR,\n",
    "    dept_key VARCHAR REFERENCES payroll_dept(dept_key),\n",
    "    job_class_key VARCHAR NOT NULL REFERENCES job_class(job_class_key),\n",
    "    emp_type VARCHAR,\n",
    "    hourly_rate NUMERIC,\n",
    "    projected_annual_sal NUMERIC,\n",
    "    total_pay NUMERIC\n",
    ")"
   ]
  },
  {
   "cell_type": "code",
   "execution_count": 25,
   "metadata": {},
   "outputs": [
    {
     "name": "stdout",
     "output_type": "stream",
     "text": [
      " * postgresql://student@/final_proj\n",
      "369712 rows affected.\n"
     ]
    },
    {
     "data": {
      "text/plain": [
       "[]"
      ]
     },
     "execution_count": 25,
     "metadata": {},
     "output_type": "execute_result"
    }
   ],
   "source": [
    "%%sql\n",
    "INSERT INTO salary_fact\n",
    "SELECT r.row_id, r.year, r.dept_key, r.job_class_id, r.emp_type, r.hourly_rate,\n",
    "       r.projected_annual_sal,r.total_pay\n",
    "FROM raw AS r"
   ]
  },
  {
   "cell_type": "code",
   "execution_count": 26,
   "metadata": {},
   "outputs": [
    {
     "name": "stdout",
     "output_type": "stream",
     "text": [
      " * postgresql://student@/final_proj\n",
      "5 rows affected.\n"
     ]
    },
    {
     "data": {
      "text/html": [
       "<table>\n",
       "    <tr>\n",
       "        <th>rec_id</th>\n",
       "        <th>year</th>\n",
       "        <th>dept_key</th>\n",
       "        <th>job_class_key</th>\n",
       "        <th>emp_type</th>\n",
       "        <th>hourly_rate</th>\n",
       "        <th>projected_annual_sal</th>\n",
       "        <th>total_pay</th>\n",
       "    </tr>\n",
       "    <tr>\n",
       "        <td>3-1002364863ctFu</td>\n",
       "        <td>2013</td>\n",
       "        <td>101</td>\n",
       "        <td>3225</td>\n",
       "        <td>Full Time</td>\n",
       "        <td>42.02</td>\n",
       "        <td>87743.24</td>\n",
       "        <td>90327.64</td>\n",
       "    </tr>\n",
       "    <tr>\n",
       "        <td>3-1003323903ctFu</td>\n",
       "        <td>2013</td>\n",
       "        <td>3201</td>\n",
       "        <td>1368</td>\n",
       "        <td>Full Time</td>\n",
       "        <td>36.61</td>\n",
       "        <td>76435.42</td>\n",
       "        <td>83292.44</td>\n",
       "    </tr>\n",
       "    <tr>\n",
       "        <td>3-1018738090ctPa</td>\n",
       "        <td>2013</td>\n",
       "        <td>7900</td>\n",
       "        <td>2498</td>\n",
       "        <td>Part Time</td>\n",
       "        <td>14.79</td>\n",
       "        <td>30881.52</td>\n",
       "        <td>14472.78</td>\n",
       "    </tr>\n",
       "    <tr>\n",
       "        <td>3-1047146194ctFu</td>\n",
       "        <td>2013</td>\n",
       "        <td>4301</td>\n",
       "        <td>2223</td>\n",
       "        <td>Full Time</td>\n",
       "        <td>52.21</td>\n",
       "        <td>109023.62</td>\n",
       "        <td>108126.96</td>\n",
       "    </tr>\n",
       "    <tr>\n",
       "        <td>3-1056989226ctFu</td>\n",
       "        <td>2013</td>\n",
       "        <td>4301</td>\n",
       "        <td>2223</td>\n",
       "        <td>Full Time</td>\n",
       "        <td>53.68</td>\n",
       "        <td>112083.84</td>\n",
       "        <td>111378.99</td>\n",
       "    </tr>\n",
       "</table>"
      ],
      "text/plain": [
       "[('3-1002364863ctFu', '2013', '101', '3225', 'Full Time', Decimal('42.02'), Decimal('87743.24'), Decimal('90327.64')),\n",
       " ('3-1003323903ctFu', '2013', '3201', '1368', 'Full Time', Decimal('36.61'), Decimal('76435.42'), Decimal('83292.44')),\n",
       " ('3-1018738090ctPa', '2013', '7900', '2498', 'Part Time', Decimal('14.79'), Decimal('30881.52'), Decimal('14472.78')),\n",
       " ('3-1047146194ctFu', '2013', '4301', '2223', 'Full Time', Decimal('52.21'), Decimal('109023.62'), Decimal('108126.96')),\n",
       " ('3-1056989226ctFu', '2013', '4301', '2223', 'Full Time', Decimal('53.68'), Decimal('112083.84'), Decimal('111378.99'))]"
      ]
     },
     "execution_count": 26,
     "metadata": {},
     "output_type": "execute_result"
    }
   ],
   "source": [
    "%%sql\n",
    "SELECT * FROM salary_fact\n",
    "LIMIT 5;"
   ]
  },
  {
   "cell_type": "markdown",
   "metadata": {},
   "source": [
    "### Build fact table \"others_fact\""
   ]
  },
  {
   "cell_type": "code",
   "execution_count": 27,
   "metadata": {},
   "outputs": [
    {
     "name": "stdout",
     "output_type": "stream",
     "text": [
      " * postgresql://student@/final_proj\n",
      "Done.\n",
      "Done.\n"
     ]
    },
    {
     "data": {
      "text/plain": [
       "[]"
      ]
     },
     "execution_count": 27,
     "metadata": {},
     "output_type": "execute_result"
    }
   ],
   "source": [
    "%%sql\n",
    "DROP TABLE IF EXISTS others_fact;\n",
    "\n",
    "CREATE TABLE others_fact(\n",
    "    rec_id VARCHAR PRIMARY KEY,\n",
    "    year VARCHAR,\n",
    "    dept_key VARCHAR REFERENCES payroll_dept(dept_key),\n",
    "    job_class_key VARCHAR REFERENCES job_class(job_class_key),\n",
    "    emp_type VARCHAR,\n",
    "    perm_bonus NUMERIC,\n",
    "    long_bonus NUMERIC,\n",
    "    temp_bonus NUMERIC,\n",
    "    lump_sum NUMERIC,\n",
    "    ot_pay NUMERIC,\n",
    "    other_n_adj NUMERIC,\n",
    "    other_sum NUMERIC\n",
    ")"
   ]
  },
  {
   "cell_type": "code",
   "execution_count": 28,
   "metadata": {},
   "outputs": [
    {
     "name": "stdout",
     "output_type": "stream",
     "text": [
      " * postgresql://student@/final_proj\n",
      "369712 rows affected.\n"
     ]
    },
    {
     "data": {
      "text/plain": [
       "[]"
      ]
     },
     "execution_count": 28,
     "metadata": {},
     "output_type": "execute_result"
    }
   ],
   "source": [
    "%%sql\n",
    "INSERT INTO others_fact\n",
    "SELECT r.row_id, r.year, r.dept_key, r.job_class_id, r.emp_type, r.perm_bonus,\n",
    "       r.long_bonus, r.temp_bonus, r.lump_sum, r.ot_pay, r.other_n_adj, r.other_sum\n",
    "FROM raw AS r"
   ]
  },
  {
   "cell_type": "markdown",
   "metadata": {},
   "source": [
    "### Build fact table \"healthcare_fact\""
   ]
  },
  {
   "cell_type": "code",
   "execution_count": 29,
   "metadata": {},
   "outputs": [
    {
     "name": "stdout",
     "output_type": "stream",
     "text": [
      " * postgresql://student@/final_proj\n",
      "Done.\n",
      "Done.\n"
     ]
    },
    {
     "data": {
      "text/plain": [
       "[]"
      ]
     },
     "execution_count": 29,
     "metadata": {},
     "output_type": "execute_result"
    }
   ],
   "source": [
    "%%sql\n",
    "DROP TABLE IF EXISTS healthcare_fact;\n",
    "\n",
    "CREATE TABLE healthcare_fact(\n",
    "    rec_id VARCHAR PRIMARY KEY,\n",
    "    year VARCHAR,\n",
    "    dept_key VARCHAR REFERENCES payroll_dept(dept_key),\n",
    "    job_class_key VARCHAR REFERENCES job_class(job_class_key),\n",
    "    emp_type VARCHAR,\n",
    "    avg_health_cost NUMERIC,\n",
    "    avg_dental_cost NUMERIC,\n",
    "    avg_basic_life NUMERIC,\n",
    "    avg_bf_cost NUMERIC\n",
    ")"
   ]
  },
  {
   "cell_type": "code",
   "execution_count": 30,
   "metadata": {},
   "outputs": [
    {
     "name": "stdout",
     "output_type": "stream",
     "text": [
      " * postgresql://student@/final_proj\n",
      "369712 rows affected.\n"
     ]
    },
    {
     "data": {
      "text/plain": [
       "[]"
      ]
     },
     "execution_count": 30,
     "metadata": {},
     "output_type": "execute_result"
    }
   ],
   "source": [
    "%%sql\n",
    "INSERT INTO healthcare_fact\n",
    "SELECT r.row_id, r.year, r.dept_key, r.job_class_id, r.emp_type, r.avg_health_cost,\n",
    "       r.avg_dental_cost, r.avg_basic_life, r.avg_bf_cost\n",
    "FROM raw AS r"
   ]
  },
  {
   "cell_type": "markdown",
   "metadata": {},
   "source": [
    "# Visualizations\n",
    "\n"
   ]
  },
  {
   "cell_type": "markdown",
   "metadata": {},
   "source": [
    "## Part A: How salaries vary across departments and across job classes?"
   ]
  },
  {
   "cell_type": "markdown",
   "metadata": {},
   "source": [
    "### Question 1: What is the distribution of employee type? "
   ]
  },
  {
   "cell_type": "code",
   "execution_count": 54,
   "metadata": {},
   "outputs": [],
   "source": [
    "#salary_fact = pd.read_sql_query('SELECT * FROM \"salary_fact\"',con=engine)\n",
    "salary_fact = pd.read_sql_query('SELECT p.dept_title, s.projected_annual_sal,s.emp_type\\\n",
    "                               FROM \"salary_fact\" AS s\\\n",
    "                               JOIN \"payroll_dept\" AS p\\\n",
    "                               ON s.dept_key = p.dept_key',con=engine)"
   ]
  },
  {
   "cell_type": "code",
   "execution_count": 37,
   "metadata": {},
   "outputs": [
    {
     "data": {
      "text/plain": [
       "Text(0.5,1,'% of Employment Type')"
      ]
     },
     "execution_count": 37,
     "metadata": {},
     "output_type": "execute_result"
    },
    {
     "data": {
      "image/png": "[encoded data removed]",
      "text/plain": [
       "<Figure size 360x360 with 1 Axes>"
      ]
     },
     "metadata": {},
     "output_type": "display_data"
    }
   ],
   "source": [
    "import matplotlib.ticker as mtick\n",
    "explode = (0.1, 0.1, 0.1)\n",
    "colors = ['#66b3ff','#99ff99','#ffcc99']\n",
    "employment_type = (salary_fact['emp_type'].value_counts()*100.0 /len(salary_fact))\\\n",
    "                  .plot.pie(autopct='%.1f%%', labels = ['Full Time', 'Part Time','Per Event'],\\\n",
    "                            figsize =(5,5), fontsize = 12,colors = colors, explode = explode,\\\n",
    "                            shadow = True)\n",
    "\n",
    "employment_type.yaxis.set_major_formatter(mtick.PercentFormatter())\n",
    "\n",
    "employment_type.set_ylabel('Employment Type',fontsize = 12)\n",
    "employment_type.set_title('% of Employment Type', fontsize = 12)"
   ]
  },
  {
   "cell_type": "markdown",
   "metadata": {},
   "source": [
    "As we can see, most employees are full-time, followed by part-time, and a little bit per-event employees. "
   ]
  },
  {
   "cell_type": "markdown",
   "metadata": {},
   "source": [
    "### Question 2: How did projected salary and actual salary differ among years from 2013 to 2018?"
   ]
  },
  {
   "cell_type": "code",
   "execution_count": 38,
   "metadata": {},
   "outputs": [
    {
     "data": {
      "image/png": "[encoded data removed]",
      "text/plain": [
       "<Figure size 432x288 with 1 Axes>"
      ]
     },
     "metadata": {
      "needs_background": "light"
     },
     "output_type": "display_data"
    }
   ],
   "source": [
    "pa = pd.read_sql_query('SELECT DISTINCT year, sum(projected_annual_sal) as projected,\\\n",
    "                        sum(total_pay) as actual\\\n",
    "                        FROM \"salary_fact\"\\\n",
    "                        GROUP BY year',con=engine)\n",
    "import numpy as np\n",
    "\n",
    "N = 6\n",
    "projected = pa[\"projected\"]\n",
    "actual = pa[\"actual\"]\n",
    "\n",
    "ind = np.arange(N) \n",
    "width = 0.35       \n",
    "plt.bar(ind, projected, width, label='projected', color=\"#ffb195\")\n",
    "plt.bar(ind + width, actual, width, label='actual',color=\"#66b3ff\")\n",
    "\n",
    "plt.ylabel('Salary payment in billion')\n",
    "plt.title('Projected vs Actual salary payment by year')\n",
    "\n",
    "plt.xticks(ind + width / 2, ('2013', '2014', '2015', '2016', '2017', '2018'))\n",
    "plt.legend(loc='best')\n",
    "plt.show()"
   ]
  },
  {
   "cell_type": "markdown",
   "metadata": {},
   "source": [
    "We can tell that the actual payment is always a little bit higher than the projected payment, except 2018. The projected value is much higher than the actual value in 2018, that may because 2018 has not over yet."
   ]
  },
  {
   "cell_type": "markdown",
   "metadata": {},
   "source": [
    "### Question 3: What are the departments that has the highest salary payment and what are the job classes that has the highest payment?"
   ]
  },
  {
   "cell_type": "code",
   "execution_count": 39,
   "metadata": {},
   "outputs": [],
   "source": [
    "top_dept = pd.read_sql_query('SELECT dept_title,\\\n",
    "                              ROUND(sum(salary_fact.total_pay)/count(salary_fact.dept_key),2) as payment\\\n",
    "                              FROM \"payroll_dept\",\"salary_fact\"\\\n",
    "                              WHERE payroll_dept.dept_key = salary_fact.dept_key\\\n",
    "                              GROUP BY dept_title\\\n",
    "                              ORDER BY payment DESC\\\n",
    "                              LIMIT 10',con=engine)"
   ]
  },
  {
   "cell_type": "code",
   "execution_count": 40,
   "metadata": {},
   "outputs": [
    {
     "data": {
      "image/png": "[encoded data removed]",
      "text/plain": [
       "<Figure size 432x288 with 1 Axes>"
      ]
     },
     "metadata": {
      "needs_background": "light"
     },
     "output_type": "display_data"
    }
   ],
   "source": [
    "objects = top_dept[\"dept_title\"]\n",
    "y_pos = np.arange(len(objects))\n",
    "payment = top_dept[\"payment\"]\n",
    " \n",
    "plt.bar(y_pos, payment, align='center', color = \"#4db8ff\",alpha=1)\n",
    "plt.xticks(y_pos, objects)\n",
    "plt.xticks(rotation=90)\n",
    "plt.ylabel('Average Salary Payment')\n",
    "plt.title('Top 10 Salary Payment Department')\n",
    "\n",
    "plt.show()"
   ]
  },
  {
   "cell_type": "markdown",
   "metadata": {},
   "source": [
    "The plot shows the top 10 departments with the highest average salary payment."
   ]
  },
  {
   "cell_type": "code",
   "execution_count": 41,
   "metadata": {},
   "outputs": [],
   "source": [
    "top_job = pd.read_sql_query('SELECT job_class_title,\\\n",
    "                             ROUND(sum(salary_fact.total_pay)/count(salary_fact.dept_key),2) as payment\\\n",
    "                             FROM \"job_c\",\"salary_fact\"\\\n",
    "                             WHERE job_c.job_class_key = salary_fact.job_class_key\\\n",
    "                             GROUP BY job_class_title\\\n",
    "                             ORDER BY payment DESC\\\n",
    "                             LIMIT 10',con=engine)"
   ]
  },
  {
   "cell_type": "code",
   "execution_count": 42,
   "metadata": {},
   "outputs": [
    {
     "data": {
      "image/png": "[encoded data removed]",
      "text/plain": [
       "<Figure size 432x288 with 1 Axes>"
      ]
     },
     "metadata": {
      "needs_background": "light"
     },
     "output_type": "display_data"
    }
   ],
   "source": [
    "objects = top_job[\"job_class_title\"]\n",
    "y_pos = np.arange(len(objects))\n",
    "payment = top_job[\"payment\"]\n",
    " \n",
    "plt.bar(y_pos, payment, align='center', alpha=1,color = \"#ff884d\")\n",
    "plt.xticks(y_pos, objects)\n",
    "plt.xticks(rotation=90)\n",
    "plt.ylabel('Average Salary Payment')\n",
    "plt.title('Top 10 Salary Payment Job Class')\n",
    "\n",
    "plt.show()"
   ]
  },
  {
   "cell_type": "markdown",
   "metadata": {},
   "source": [
    "The plot shows the top 10 job class with the highest average salary payment."
   ]
  },
  {
   "cell_type": "markdown",
   "metadata": {},
   "source": [
    "### Question 4: How the projected annual salaries distributed in departments with relatively higher salaries and in departments with relatively lower salaries?"
   ]
  },
  {
   "cell_type": "code",
   "execution_count": 43,
   "metadata": {},
   "outputs": [],
   "source": [
    "%matplotlib inline"
   ]
  },
  {
   "cell_type": "markdown",
   "metadata": {},
   "source": [
    "##### We chose 6 departments that had higher average projected annual salary and 6 departments that had lower average projected annual salary with relatively large amount of records.\n",
    "\n",
    "Top 15 departments with the highest projected annual salary"
   ]
  },
  {
   "cell_type": "code",
   "execution_count": 44,
   "metadata": {},
   "outputs": [
    {
     "name": "stdout",
     "output_type": "stream",
     "text": [
      " * postgresql://student@/final_proj\n",
      "15 rows affected.\n"
     ]
    },
    {
     "data": {
      "text/html": [
       "<table>\n",
       "    <tr>\n",
       "        <th>dept_title</th>\n",
       "        <th>round</th>\n",
       "        <th>count</th>\n",
       "    </tr>\n",
       "    <tr>\n",
       "        <td>Public Accountability</td>\n",
       "        <td>180966.96</td>\n",
       "        <td>8</td>\n",
       "    </tr>\n",
       "    <tr>\n",
       "        <td>Human Relations Commission</td>\n",
       "        <td>135511.20</td>\n",
       "        <td>1</td>\n",
       "    </tr>\n",
       "    <tr>\n",
       "        <td>City Attorney</td>\n",
       "        <td>126059.91</td>\n",
       "        <td>5950</td>\n",
       "    </tr>\n",
       "    <tr>\n",
       "        <td>Environmental Affairs</td>\n",
       "        <td>110480.00</td>\n",
       "        <td>4</td>\n",
       "    </tr>\n",
       "    <tr>\n",
       "        <td>Treasurer</td>\n",
       "        <td>110027.16</td>\n",
       "        <td>8</td>\n",
       "    </tr>\n",
       "    <tr>\n",
       "        <td>City Administrative Officer</td>\n",
       "        <td>107010.78</td>\n",
       "        <td>833</td>\n",
       "    </tr>\n",
       "    <tr>\n",
       "        <td>Cannabis</td>\n",
       "        <td>101231.93</td>\n",
       "        <td>11</td>\n",
       "    </tr>\n",
       "    <tr>\n",
       "        <td>Public Works - Engineering</td>\n",
       "        <td>99889.38</td>\n",
       "        <td>5214</td>\n",
       "    </tr>\n",
       "    <tr>\n",
       "        <td>Police</td>\n",
       "        <td>98578.54</td>\n",
       "        <td>82135</td>\n",
       "    </tr>\n",
       "    <tr>\n",
       "        <td>Information Technology Agency</td>\n",
       "        <td>96661.22</td>\n",
       "        <td>3205</td>\n",
       "    </tr>\n",
       "    <tr>\n",
       "        <td>Water And Power (DWP)</td>\n",
       "        <td>94753.65</td>\n",
       "        <td>68853</td>\n",
       "    </tr>\n",
       "    <tr>\n",
       "        <td>Controller</td>\n",
       "        <td>93586.07</td>\n",
       "        <td>1124</td>\n",
       "    </tr>\n",
       "    <tr>\n",
       "        <td>Public Works - Contract Administration</td>\n",
       "        <td>92385.71</td>\n",
       "        <td>1998</td>\n",
       "    </tr>\n",
       "    <tr>\n",
       "        <td>City Ethics Commission</td>\n",
       "        <td>90822.68</td>\n",
       "        <td>193</td>\n",
       "    </tr>\n",
       "    <tr>\n",
       "        <td>Disability</td>\n",
       "        <td>87947.72</td>\n",
       "        <td>122</td>\n",
       "    </tr>\n",
       "</table>"
      ],
      "text/plain": [
       "[('Public Accountability', Decimal('180966.96'), 8),\n",
       " ('Human Relations Commission', Decimal('135511.20'), 1),\n",
       " ('City Attorney', Decimal('126059.91'), 5950),\n",
       " ('Environmental Affairs', Decimal('110480.00'), 4),\n",
       " ('Treasurer', Decimal('110027.16'), 8),\n",
       " ('City Administrative Officer', Decimal('107010.78'), 833),\n",
       " ('Cannabis', Decimal('101231.93'), 11),\n",
       " ('Public Works - Engineering', Decimal('99889.38'), 5214),\n",
       " ('Police', Decimal('98578.54'), 82135),\n",
       " ('Information Technology Agency', Decimal('96661.22'), 3205),\n",
       " ('Water And Power (DWP)', Decimal('94753.65'), 68853),\n",
       " ('Controller', Decimal('93586.07'), 1124),\n",
       " ('Public Works - Contract Administration', Decimal('92385.71'), 1998),\n",
       " ('City Ethics Commission', Decimal('90822.68'), 193),\n",
       " ('Disability', Decimal('87947.72'), 122)]"
      ]
     },
     "execution_count": 44,
     "metadata": {},
     "output_type": "execute_result"
    }
   ],
   "source": [
    "%%sql\n",
    "SELECT p.dept_title, ROUND(AVG(projected_annual_sal),2), COUNT(*)\n",
    "FROM salary_fact AS s\n",
    "JOIN payroll_dept AS p\n",
    "ON s.dept_key = p.dept_key\n",
    "GROUP BY p.dept_title\n",
    "ORDER BY AVG(projected_annual_sal) DESC\n",
    "LIMIT 15;"
   ]
  },
  {
   "cell_type": "markdown",
   "metadata": {},
   "source": [
    "Top 15 departments with the lowest projected annual salary"
   ]
  },
  {
   "cell_type": "code",
   "execution_count": 45,
   "metadata": {},
   "outputs": [
    {
     "name": "stdout",
     "output_type": "stream",
     "text": [
      " * postgresql://student@/final_proj\n",
      "15 rows affected.\n"
     ]
    },
    {
     "data": {
      "text/html": [
       "<table>\n",
       "    <tr>\n",
       "        <th>dept_title</th>\n",
       "        <th>round</th>\n",
       "        <th>count</th>\n",
       "    </tr>\n",
       "    <tr>\n",
       "        <td>City Clerk</td>\n",
       "        <td>40238.49</td>\n",
       "        <td>3418</td>\n",
       "    </tr>\n",
       "    <tr>\n",
       "        <td>Recreation And Parks</td>\n",
       "        <td>40484.64</td>\n",
       "        <td>48350</td>\n",
       "    </tr>\n",
       "    <tr>\n",
       "        <td>Employee Relations Board</td>\n",
       "        <td>41629.46</td>\n",
       "        <td>48</td>\n",
       "    </tr>\n",
       "    <tr>\n",
       "        <td>El Pueblo De Los Angeles Historical Monument Authority</td>\n",
       "        <td>52663.05</td>\n",
       "        <td>223</td>\n",
       "    </tr>\n",
       "    <tr>\n",
       "        <td>Commission on the Status of Women</td>\n",
       "        <td>54392.40</td>\n",
       "        <td>2</td>\n",
       "    </tr>\n",
       "    <tr>\n",
       "        <td>Cultural Affairs</td>\n",
       "        <td>54592.61</td>\n",
       "        <td>1209</td>\n",
       "    </tr>\n",
       "    <tr>\n",
       "        <td>Zoo</td>\n",
       "        <td>55158.45</td>\n",
       "        <td>2393</td>\n",
       "    </tr>\n",
       "    <tr>\n",
       "        <td>Library</td>\n",
       "        <td>57573.85</td>\n",
       "        <td>9690</td>\n",
       "    </tr>\n",
       "    <tr>\n",
       "        <td>Animal Services</td>\n",
       "        <td>60714.28</td>\n",
       "        <td>2226</td>\n",
       "    </tr>\n",
       "    <tr>\n",
       "        <td>Transportation</td>\n",
       "        <td>64293.36</td>\n",
       "        <td>12652</td>\n",
       "    </tr>\n",
       "    <tr>\n",
       "        <td>Los Angeles Convention Center</td>\n",
       "        <td>65959.09</td>\n",
       "        <td>676</td>\n",
       "    </tr>\n",
       "    <tr>\n",
       "        <td>Neighborhood Empowerment</td>\n",
       "        <td>66363.08</td>\n",
       "        <td>252</td>\n",
       "    </tr>\n",
       "    <tr>\n",
       "        <td>General Services</td>\n",
       "        <td>70006.34</td>\n",
       "        <td>10185</td>\n",
       "    </tr>\n",
       "    <tr>\n",
       "        <td>Council District</td>\n",
       "        <td>74899.98</td>\n",
       "        <td>2825</td>\n",
       "    </tr>\n",
       "    <tr>\n",
       "        <td>Personnel</td>\n",
       "        <td>75347.26</td>\n",
       "        <td>4931</td>\n",
       "    </tr>\n",
       "</table>"
      ],
      "text/plain": [
       "[('City Clerk', Decimal('40238.49'), 3418),\n",
       " ('Recreation And Parks', Decimal('40484.64'), 48350),\n",
       " ('Employee Relations Board', Decimal('41629.46'), 48),\n",
       " ('El Pueblo De Los Angeles Historical Monument Authority', Decimal('52663.05'), 223),\n",
       " ('Commission on the Status of Women', Decimal('54392.40'), 2),\n",
       " ('Cultural Affairs', Decimal('54592.61'), 1209),\n",
       " ('Zoo', Decimal('55158.45'), 2393),\n",
       " ('Library', Decimal('57573.85'), 9690),\n",
       " ('Animal Services', Decimal('60714.28'), 2226),\n",
       " ('Transportation', Decimal('64293.36'), 12652),\n",
       " ('Los Angeles Convention Center', Decimal('65959.09'), 676),\n",
       " ('Neighborhood Empowerment', Decimal('66363.08'), 252),\n",
       " ('General Services', Decimal('70006.34'), 10185),\n",
       " ('Council District', Decimal('74899.98'), 2825),\n",
       " ('Personnel', Decimal('75347.26'), 4931)]"
      ]
     },
     "execution_count": 45,
     "metadata": {},
     "output_type": "execute_result"
    }
   ],
   "source": [
    "%%sql\n",
    "SELECT p.dept_title, ROUND(AVG(projected_annual_sal),2), COUNT(*)\n",
    "FROM salary_fact AS s\n",
    "JOIN payroll_dept AS p\n",
    "ON s.dept_key = p.dept_key\n",
    "GROUP BY p.dept_title\n",
    "ORDER BY AVG(projected_annual_sal) ASC\n",
    "LIMIT 15;"
   ]
  },
  {
   "cell_type": "markdown",
   "metadata": {},
   "source": [
    "Create a dataframe \"salary_df\" that contains \"dept_title\", \"projected_annual_sal\" and \"emp_type\""
   ]
  },
  {
   "cell_type": "markdown",
   "metadata": {},
   "source": [
    "Enventually, our selections of higher paid departments are \"Information Technology Agency\", \"City Attorney\", \"Fire\", \"Police\", \"Public Works - Engineering\" and \"Water And Power (DWP)\"; Although the average salary in the Fire department was not in the top 15, we included it in our analysis bacause of its dangerous working nature; our selections of lower paid departments are \"City Clerk\", \"Recreation And Parks\", \"General Services\", \"Personnel\", \"Library\" and \"Transportation\"."
   ]
  },
  {
   "cell_type": "code",
   "execution_count": 36,
   "metadata": {},
   "outputs": [],
   "source": [
    "t6 = [\"Information Technology Agency\",\"City Attorney\",\"Fire\",\"Police\",\\\n",
    "      \"Public Works - Engineering\",\\\n",
    "      \"Water And Power (DWP)\"]\n",
    "l6 = [\"City Clerk\", \"Recreation And Parks\", \"General Services\",\\\n",
    "      \"Personnel\",\\\n",
    "      \"Library\",\"Transportation\"]"
   ]
  },
  {
   "cell_type": "markdown",
   "metadata": {},
   "source": [
    "#### Distributions of Projected Annual Salaries of full time employees\n",
    "\n",
    "Extract all records of full time employees"
   ]
  },
  {
   "cell_type": "code",
   "execution_count": 47,
   "metadata": {},
   "outputs": [],
   "source": [
    "salary_ft = salary_fact[salary_fact[\"emp_type\"] == \"Full Time\"]"
   ]
  },
  {
   "cell_type": "code",
   "execution_count": 48,
   "metadata": {},
   "outputs": [],
   "source": [
    "salary_ftt6=salary_ft[salary_ft['dept_title'].isin(t6)]\n",
    "salary_ftl6=salary_ft[salary_ft['dept_title'].isin(l6)]"
   ]
  },
  {
   "cell_type": "markdown",
   "metadata": {},
   "source": [
    "Plot distributions of Projected Annual Salaries in higher paid departments"
   ]
  },
  {
   "cell_type": "code",
   "execution_count": 49,
   "metadata": {},
   "outputs": [
    {
     "data": {
      "text/plain": [
       "<seaborn.axisgrid.FacetGrid at 0x7f6c3f6cc4e0>"
      ]
     },
     "execution_count": 49,
     "metadata": {},
     "output_type": "execute_result"
    },
    {
     "data": {
      "image/png": "[encoded data removed]",
      "text/plain": [
       "<Figure size 504x432 with 6 Axes>"
      ]
     },
     "metadata": {
      "needs_background": "light"
     },
     "output_type": "display_data"
    }
   ],
   "source": [
    "# Initialize the FacetGrid object\n",
    "pal = sns.cubehelix_palette(10, rot=-.25, light=.7)\n",
    "g = sns.FacetGrid(salary_ftt6, row=\"dept_title\", hue=\"dept_title\", aspect=7, height=1, palette=pal)\n",
    "\n",
    "# Draw the densities in a few steps\n",
    "g.map(sns.kdeplot, \"projected_annual_sal\", clip_on=False, shade=True, alpha=1, lw=1.5, bw=.2)\n",
    "g.map(sns.kdeplot, \"projected_annual_sal\", clip_on=False, color=\"w\", lw=2, bw=.2)\n",
    "g.map(plt.axhline, y=0, lw=2, clip_on=False)\n",
    "\n",
    "\n",
    "# Define and use a simple function to label the plot in axes coordinates\n",
    "def label(x, color, label):\n",
    "    ax = plt.gca()\n",
    "    ax.text(1, 0.4, label, fontweight=\"bold\", fontsize = 10,color=color,\n",
    "            ha=\"left\", va=\"center\", transform=ax.transAxes)\n",
    "\n",
    "\n",
    "g.map(label,\"projected_annual_sal\")\n",
    "\n",
    "# Set the subplots to overlap\n",
    "#g.fig.subplots_adjust(hspace=-.3)\n",
    "\n",
    "# Remove axes details that don't play well with overlap\n",
    "g.set_titles(\"\")\n",
    "g.set(yticks=[])\n",
    "g.despine(bottom=True, left=True)"
   ]
  },
  {
   "cell_type": "markdown",
   "metadata": {},
   "source": [
    "Plot distributions of Projected Annual Salaries in lower paid departments"
   ]
  },
  {
   "cell_type": "code",
   "execution_count": 50,
   "metadata": {},
   "outputs": [
    {
     "data": {
      "text/plain": [
       "<seaborn.axisgrid.FacetGrid at 0x7f6c3e412a90>"
      ]
     },
     "execution_count": 50,
     "metadata": {},
     "output_type": "execute_result"
    },
    {
     "data": {
      "image/png": "[encoded data removed]",
      "text/plain": [
       "<Figure size 504x432 with 6 Axes>"
      ]
     },
     "metadata": {
      "needs_background": "light"
     },
     "output_type": "display_data"
    }
   ],
   "source": [
    "# Initialize the FacetGrid object\n",
    "pal = sns.set_palette(\"pastel\")\n",
    "#pal = sns.cubehelix_palette(10, rot=-.25, light=.7)\n",
    "g = sns.FacetGrid(salary_ftl6, row=\"dept_title\", hue=\"dept_title\", aspect=7, height=1, palette=pal)\n",
    "\n",
    "# Draw the densities in a few steps\n",
    "g.map(sns.kdeplot, \"projected_annual_sal\", clip_on=False, shade=True, alpha=1, lw=1.5, bw=.2)\n",
    "g.map(sns.kdeplot, \"projected_annual_sal\", clip_on=False, color=\"w\", lw=2, bw=.2)\n",
    "g.map(plt.axhline, y=0, lw=2, clip_on=False)\n",
    "\n",
    "\n",
    "# Define and use a simple function to label the plot in axes coordinates\n",
    "def label(x, color, label):\n",
    "    ax = plt.gca()\n",
    "    ax.text(1, 0.4, label, fontweight=\"bold\", fontsize = 10,color=color,\n",
    "            ha=\"left\", va=\"center\", transform=ax.transAxes)\n",
    "\n",
    "\n",
    "g.map(label, \"projected_annual_sal\")\n",
    "\n",
    "# Set the subplots to overlap\n",
    "#g.fig.subplots_adjust(hspace=-.3)\n",
    "\n",
    "# Remove axes details that don't play well with overlap\n",
    "g.set_titles(\"\")\n",
    "g.set(yticks=[])\n",
    "g.despine(bottom=True, left=True)"
   ]
  },
  {
   "cell_type": "markdown",
   "metadata": {},
   "source": [
    "For full-time employees, no matter how high their payments are, we can tell that their payment distribution are more separated and all seem to have a larger range. "
   ]
  },
  {
   "cell_type": "markdown",
   "metadata": {},
   "source": [
    "#### Distributions of Projected Annual Salaries of part time and per-event employees\n",
    "\n",
    "Extract all records of part time and per-event employees"
   ]
  },
  {
   "cell_type": "code",
   "execution_count": 51,
   "metadata": {},
   "outputs": [],
   "source": [
    "salary_pt = salary_fact[salary_fact[\"emp_type\"] != \"Full Time\"]"
   ]
  },
  {
   "cell_type": "code",
   "execution_count": 52,
   "metadata": {},
   "outputs": [],
   "source": [
    "salary_ptt6=salary_pt[salary_pt['dept_title'].isin(t6)]\n",
    "salary_ptl6=salary_pt[salary_pt['dept_title'].isin(l6)]"
   ]
  },
  {
   "cell_type": "markdown",
   "metadata": {},
   "source": [
    "Plot distributions of Projected Annual Salaries in higher paid departments"
   ]
  },
  {
   "cell_type": "code",
   "execution_count": 53,
   "metadata": {},
   "outputs": [
    {
     "data": {
      "text/plain": [
       "<seaborn.axisgrid.FacetGrid at 0x7f6c40944240>"
      ]
     },
     "execution_count": 53,
     "metadata": {},
     "output_type": "execute_result"
    },
    {
     "data": {
      "image/png": "[encoded data removed]",
      "text/plain": [
       "<Figure size 504x432 with 6 Axes>"
      ]
     },
     "metadata": {
      "needs_background": "light"
     },
     "output_type": "display_data"
    }
   ],
   "source": [
    "# Initialize the FacetGrid object\n",
    "pal = sns.cubehelix_palette(10, rot=-.25, light=.7)\n",
    "g = sns.FacetGrid(salary_ptt6, row=\"dept_title\", hue=\"dept_title\", aspect=7, height=1, palette=pal)\n",
    "\n",
    "# Draw the densities in a few steps\n",
    "g.map(sns.kdeplot, \"projected_annual_sal\", clip_on=False, shade=True, alpha=1, lw=1.5, bw=.2)\n",
    "g.map(sns.kdeplot, \"projected_annual_sal\", clip_on=False, color=\"w\", lw=2, bw=.2)\n",
    "g.map(plt.axhline, y=0, lw=2, clip_on=False)\n",
    "\n",
    "\n",
    "# Define and use a simple function to label the plot in axes coordinates\n",
    "def label(x, color, label):\n",
    "    ax = plt.gca()\n",
    "    ax.text(1, 0.4, label, fontweight=\"bold\", fontsize = 10,color=color,\n",
    "            ha=\"left\", va=\"center\", transform=ax.transAxes)\n",
    "\n",
    "\n",
    "g.map(label,\"projected_annual_sal\")\n",
    "\n",
    "# Set the subplots to overlap\n",
    "#g.fig.subplots_adjust(hspace=-.3)\n",
    "\n",
    "# Remove axes details that don't play well with overlap\n",
    "g.set_titles(\"\")\n",
    "g.set(yticks=[])\n",
    "g.despine(bottom=True, left=True)"
   ]
  },
  {
   "cell_type": "markdown",
   "metadata": {},
   "source": [
    "Plot distributions of Projected Annual Salaries in lower paid departments"
   ]
  },
  {
   "cell_type": "code",
   "execution_count": 54,
   "metadata": {},
   "outputs": [
    {
     "data": {
      "text/plain": [
       "<seaborn.axisgrid.FacetGrid at 0x7f6c3c1f0b38>"
      ]
     },
     "execution_count": 54,
     "metadata": {},
     "output_type": "execute_result"
    },
    {
     "data": {
      "image/png": "[encoded data removed]",
      "text/plain": [
       "<Figure size 504x432 with 6 Axes>"
      ]
     },
     "metadata": {
      "needs_background": "light"
     },
     "output_type": "display_data"
    }
   ],
   "source": [
    "# Initialize the FacetGrid object\n",
    "pal = sns.set_palette(\"pastel\")\n",
    "g = sns.FacetGrid(salary_ptl6, row=\"dept_title\", hue=\"dept_title\", aspect=7, height=1, palette=pal)\n",
    "\n",
    "# Draw the densities in a few steps\n",
    "g.map(sns.kdeplot, \"projected_annual_sal\", clip_on=False, shade=True, alpha=1, lw=1.5, bw=.2)\n",
    "g.map(sns.kdeplot, \"projected_annual_sal\", clip_on=False, color=\"w\", lw=2, bw=.2)\n",
    "g.map(plt.axhline, y=0, lw=2, clip_on=False)\n",
    "\n",
    "\n",
    "# Define and use a simple function to label the plot in axes coordinates\n",
    "def label(x, color, label):\n",
    "    ax = plt.gca()\n",
    "    ax.text(1, 0.4, label, fontweight=\"bold\", fontsize = 10,color=color,\n",
    "            ha=\"left\", va=\"center\", transform=ax.transAxes)\n",
    "\n",
    "\n",
    "g.map(label,\"projected_annual_sal\")\n",
    "\n",
    "# Set the subplots to overlap\n",
    "g.fig.subplots_adjust(hspace=0.5)\n",
    "\n",
    "# Remove axes details that don't play well with overlap\n",
    "g.set_titles(\"\")\n",
    "g.set(yticks=[])\n",
    "g.despine(bottom=True, left=True)"
   ]
  },
  {
   "cell_type": "markdown",
   "metadata": {},
   "source": [
    "Compare to the visualizations we created for full-time employees, payment for part-time or per-event employees seems to be more gathered in a smaller range for more departments. "
   ]
  },
  {
   "cell_type": "markdown",
   "metadata": {},
   "source": [
    "## Part B: Explore the healthcare benefits that employees received among different departments "
   ]
  },
  {
   "cell_type": "markdown",
   "metadata": {},
   "source": [
    "### Question 1: How does the health cost differ between different departments "
   ]
  },
  {
   "cell_type": "markdown",
   "metadata": {},
   "source": [
    "We decided to take a lookt at the top five departments that have the highest average health cost and the top five ones that have the lowest average health cost."
   ]
  },
  {
   "cell_type": "code",
   "execution_count": 55,
   "metadata": {},
   "outputs": [
    {
     "name": "stdout",
     "output_type": "stream",
     "text": [
      " * postgresql://student@/final_proj\n",
      "5 rows affected.\n"
     ]
    },
    {
     "data": {
      "text/html": [
       "<table>\n",
       "    <tr>\n",
       "        <th>dept_title</th>\n",
       "        <th>Average Health Cost</th>\n",
       "    </tr>\n",
       "    <tr>\n",
       "        <td>City Clerk</td>\n",
       "        <td>2134.8160825043885313</td>\n",
       "    </tr>\n",
       "    <tr>\n",
       "        <td>Recreation And Parks</td>\n",
       "        <td>2168.3579826266804550</td>\n",
       "    </tr>\n",
       "    <tr>\n",
       "        <td>Cultural Affairs</td>\n",
       "        <td>2996.1694954507857734</td>\n",
       "    </tr>\n",
       "    <tr>\n",
       "        <td>Los Angeles Convention Center</td>\n",
       "        <td>3046.7745857988165680</td>\n",
       "    </tr>\n",
       "    <tr>\n",
       "        <td>El Pueblo De Los Angeles Historical Monument Authority</td>\n",
       "        <td>3113.1796412556053812</td>\n",
       "    </tr>\n",
       "</table>"
      ],
      "text/plain": [
       "[('City Clerk', Decimal('2134.8160825043885313')),\n",
       " ('Recreation And Parks', Decimal('2168.3579826266804550')),\n",
       " ('Cultural Affairs', Decimal('2996.1694954507857734')),\n",
       " ('Los Angeles Convention Center', Decimal('3046.7745857988165680')),\n",
       " ('El Pueblo De Los Angeles Historical Monument Authority', Decimal('3113.1796412556053812'))]"
      ]
     },
     "execution_count": 55,
     "metadata": {},
     "output_type": "execute_result"
    }
   ],
   "source": [
    "%%sql\n",
    "SELECT p.dept_title, AVG(h.avg_health_cost) AS \"Average Health Cost\"\n",
    "FROM healthcare_fact AS h \n",
    "JOIN payroll_dept AS p\n",
    "ON p.dept_key = h.dept_key\n",
    "GROUP BY p.dept_title\n",
    "ORDER BY AVG(h.avg_health_cost)\n",
    "LIMIT 5"
   ]
  },
  {
   "cell_type": "code",
   "execution_count": 56,
   "metadata": {},
   "outputs": [],
   "source": [
    "%matplotlib inline"
   ]
  },
  {
   "cell_type": "code",
   "execution_count": 57,
   "metadata": {},
   "outputs": [
    {
     "data": {
      "text/plain": [
       "<BarContainer object of 5 artists>"
      ]
     },
     "execution_count": 57,
     "metadata": {},
     "output_type": "execute_result"
    },
    {
     "data": {
      "image/png": "[encoded data removed]",
      "text/plain": [
       "<Figure size 432x288 with 1 Axes>"
      ]
     },
     "metadata": {
      "needs_background": "light"
     },
     "output_type": "display_data"
    }
   ],
   "source": [
    "_.bar()"
   ]
  },
  {
   "cell_type": "code",
   "execution_count": 58,
   "metadata": {},
   "outputs": [
    {
     "name": "stdout",
     "output_type": "stream",
     "text": [
      " * postgresql://student@/final_proj\n",
      "5 rows affected.\n"
     ]
    },
    {
     "data": {
      "text/html": [
       "<table>\n",
       "    <tr>\n",
       "        <th>dept_title</th>\n",
       "        <th>Average Health Cost</th>\n",
       "    </tr>\n",
       "    <tr>\n",
       "        <td>Water And Power (DWP)</td>\n",
       "        <td>17540.828753285986</td>\n",
       "    </tr>\n",
       "    <tr>\n",
       "        <td>Fire</td>\n",
       "        <td>13297.139461646728</td>\n",
       "    </tr>\n",
       "    <tr>\n",
       "        <td>Treasurer</td>\n",
       "        <td>12274.650000000000</td>\n",
       "    </tr>\n",
       "    <tr>\n",
       "        <td>Commission on the Status of Women</td>\n",
       "        <td>12274.6500000000000000</td>\n",
       "    </tr>\n",
       "    <tr>\n",
       "        <td>Environmental Affairs</td>\n",
       "        <td>12274.6500000000000000</td>\n",
       "    </tr>\n",
       "</table>"
      ],
      "text/plain": [
       "[('Water And Power (DWP)', Decimal('17540.828753285986')),\n",
       " ('Fire', Decimal('13297.139461646728')),\n",
       " ('Treasurer', Decimal('12274.650000000000')),\n",
       " ('Commission on the Status of Women', Decimal('12274.6500000000000000')),\n",
       " ('Environmental Affairs', Decimal('12274.6500000000000000'))]"
      ]
     },
     "execution_count": 58,
     "metadata": {},
     "output_type": "execute_result"
    }
   ],
   "source": [
    "%%sql\n",
    "SELECT p.dept_title, AVG(h.avg_health_cost) AS \"Average Health Cost\"\n",
    "FROM healthcare_fact AS h \n",
    "JOIN payroll_dept AS p\n",
    "ON p.dept_key = h.dept_key\n",
    "GROUP BY p.dept_title\n",
    "ORDER BY AVG(h.avg_health_cost) DESC\n",
    "LIMIT 5"
   ]
  },
  {
   "cell_type": "code",
   "execution_count": 59,
   "metadata": {},
   "outputs": [],
   "source": [
    "%matplotlib inline"
   ]
  },
  {
   "cell_type": "code",
   "execution_count": 60,
   "metadata": {},
   "outputs": [
    {
     "data": {
      "text/plain": [
       "<BarContainer object of 5 artists>"
      ]
     },
     "execution_count": 60,
     "metadata": {},
     "output_type": "execute_result"
    },
    {
     "data": {
      "image/png": "[encoded data removed]",
      "text/plain": [
       "<Figure size 432x288 with 1 Axes>"
      ]
     },
     "metadata": {
      "needs_background": "light"
     },
     "output_type": "display_data"
    }
   ],
   "source": [
    "_.bar()"
   ]
  },
  {
   "cell_type": "markdown",
   "metadata": {},
   "source": [
    "As we can see from the results above, we cannot tell that if the salary_level has a significant relationship with the healthcare cost, since some department that has a really high salary level such as recreaction and parks seems to spend very little on healthcare, but some other departments such as water and power that also has a high salary level seems to spend a lot on healthcare. "
   ]
  },
  {
   "cell_type": "markdown",
   "metadata": {},
   "source": [
    "### Question 2: How much does the average health cost weigh among all the benefit costs? "
   ]
  },
  {
   "cell_type": "code",
   "execution_count": 61,
   "metadata": {},
   "outputs": [
    {
     "name": "stdout",
     "output_type": "stream",
     "text": [
      " * postgresql://student@/final_proj\n",
      "3 rows affected.\n"
     ]
    },
    {
     "data": {
      "text/html": [
       "<table>\n",
       "    <tr>\n",
       "        <th>emp_type</th>\n",
       "        <th>Average Health Cost</th>\n",
       "        <th>Average Dental Cost</th>\n",
       "        <th>Average Basic Life Cost</th>\n",
       "        <th>Average Benefit Cost</th>\n",
       "    </tr>\n",
       "    <tr>\n",
       "        <td>Per Event</td>\n",
       "        <td>0E-20</td>\n",
       "        <td>0E-20</td>\n",
       "        <td>0E-20</td>\n",
       "        <td>0E-20</td>\n",
       "    </tr>\n",
       "    <tr>\n",
       "        <td>Full Time</td>\n",
       "        <td>13176.901989431342</td>\n",
       "        <td>735.6574134131034233</td>\n",
       "        <td>57.4351485970501319</td>\n",
       "        <td>13969.994551441495</td>\n",
       "    </tr>\n",
       "    <tr>\n",
       "        <td>Part Time</td>\n",
       "        <td>0E-24</td>\n",
       "        <td>0E-24</td>\n",
       "        <td>0E-24</td>\n",
       "        <td>0E-24</td>\n",
       "    </tr>\n",
       "</table>"
      ],
      "text/plain": [
       "[('Per Event', Decimal('0E-20'), Decimal('0E-20'), Decimal('0E-20'), Decimal('0E-20')),\n",
       " ('Full Time', Decimal('13176.901989431342'), Decimal('735.6574134131034233'), Decimal('57.4351485970501319'), Decimal('13969.994551441495')),\n",
       " ('Part Time', Decimal('0E-24'), Decimal('0E-24'), Decimal('0E-24'), Decimal('0E-24'))]"
      ]
     },
     "execution_count": 61,
     "metadata": {},
     "output_type": "execute_result"
    }
   ],
   "source": [
    "%%sql \n",
    "SELECT emp_type, AVG(avg_health_cost) AS \"Average Health Cost\",\n",
    "       AVG(avg_dental_cost) AS \"Average Dental Cost\",\n",
    "       AVG(avg_basic_life) AS \"Average Basic Life Cost\",\n",
    "       AVG(avg_bf_cost) AS \"Average Benefit Cost\"\n",
    "FROM healthcare_fact\n",
    "GROUP BY emp_type"
   ]
  },
  {
   "cell_type": "markdown",
   "metadata": {},
   "source": [
    "Only full time employees were provided with healthcare benefits."
   ]
  },
  {
   "cell_type": "code",
   "execution_count": 62,
   "metadata": {},
   "outputs": [],
   "source": [
    "health = pd.read_sql(\"SELECT emp_type, AVG(avg_health_cost), AVG(avg_dental_cost),AVG(avg_basic_life)\\\n",
    "          FROM healthcare_fact\\\n",
    "          WHERE emp_type = 'Full Time'\\\n",
    "          GROUP BY emp_type\",con=engine)"
   ]
  },
  {
   "cell_type": "code",
   "execution_count": 63,
   "metadata": {},
   "outputs": [
    {
     "data": {
      "image/png": "[encoded data removed]",
      "text/plain": [
       "<Figure size 432x288 with 1 Axes>"
      ]
     },
     "metadata": {},
     "output_type": "display_data"
    }
   ],
   "source": [
    "import matplotlib.pyplot as plt\n",
    "labels = 'Average Health Cost', 'Average Dental Cost', 'Average Basic Life Cost'\n",
    "sizes = [47, 2,8]\n",
    "explode = (0.1, 0, 0.15)\n",
    "colors = ['#66b3ff','#99ff99','#ff9999']\n",
    "fig1, ax1 = plt.subplots()\n",
    "ax1.pie(sizes, explode=explode, labels=labels,colors=colors,autopct='%1.1f%%',\n",
    "        shadow=True, startangle=90)\n",
    "ax1.axis('equal')\n",
    "plt.show()"
   ]
  },
  {
   "cell_type": "markdown",
   "metadata": {},
   "source": [
    "Based on the pie chart above, the average health cost seems to be the most part among the entire benefit cost, followed by the basic life costs and dental cost. "
   ]
  },
  {
   "cell_type": "markdown",
   "metadata": {},
   "source": [
    "### Question 3: How much of the total_pay was paid for healthcare in the 12 departments we selected?\n",
    "\n",
    "Build a table called health_sal_demo that contains department title, average benefit cost and total pay of all employees in the 12 departments (same as what we choose before). In this question, we did not analyze the data by employment type because only full time employees were provided with healthcare benefits."
   ]
  },
  {
   "cell_type": "code",
   "execution_count": 32,
   "metadata": {},
   "outputs": [
    {
     "name": "stdout",
     "output_type": "stream",
     "text": [
      " * postgresql://student@/final_proj\n",
      "Done.\n",
      "Done.\n"
     ]
    },
    {
     "data": {
      "text/plain": [
       "[]"
      ]
     },
     "execution_count": 32,
     "metadata": {},
     "output_type": "execute_result"
    }
   ],
   "source": [
    "%%sql\n",
    "DROP TABLE IF EXISTS health_sal_demo;\n",
    "CREATE TABLE health_sal_demo(\n",
    "    dept_title VARCHAR,\n",
    "    health_bf NUMERIC,\n",
    "    sal NUMERIC\n",
    ")"
   ]
  },
  {
   "cell_type": "code",
   "execution_count": 33,
   "metadata": {},
   "outputs": [
    {
     "name": "stdout",
     "output_type": "stream",
     "text": [
      " * postgresql://student@/final_proj\n",
      "277319 rows affected.\n"
     ]
    },
    {
     "data": {
      "text/plain": [
       "[]"
      ]
     },
     "execution_count": 33,
     "metadata": {},
     "output_type": "execute_result"
    }
   ],
   "source": [
    "%%sql\n",
    "INSERT INTO health_sal_demo\n",
    "SELECT p.dept_title, d.avg_bf_cost, d.sal\n",
    "FROM(\n",
    "    SELECT s.dept_key, h.avg_bf_cost, (s.total_pay-h.avg_bf_cost) AS sal\n",
    "    FROM salary_fact AS s\n",
    "    JOIN healthcare_fact AS h\n",
    "    ON s.rec_id = h.rec_id) d\n",
    "JOIN payroll_dept AS p\n",
    "ON p.dept_key=d.dept_key\n",
    "WHERE p.dept_title = 'Information Technology Agency'\n",
    "OR p.dept_title = 'City Attorney'\n",
    "OR p.dept_title = 'Fire'\n",
    "OR p.dept_title = 'Police'\n",
    "OR p.dept_title = 'Public Works - Engineering'\n",
    "OR p.dept_title = 'Water And Power (DWP)'\n",
    "OR p.dept_title = 'City Clerk'\n",
    "OR p.dept_title = 'Recreation And Parks'\n",
    "OR p.dept_title = 'Transportation'\n",
    "OR p.dept_title = 'Personnel'\n",
    "OR p.dept_title = 'Library'\n",
    "OR p.dept_title = 'General Services'"
   ]
  },
  {
   "cell_type": "code",
   "execution_count": 34,
   "metadata": {},
   "outputs": [],
   "source": [
    "health_sal_demo = pd.read_sql_query('SELECT * FROM health_sal_demo',con=engine)"
   ]
  },
  {
   "cell_type": "code",
   "execution_count": 37,
   "metadata": {},
   "outputs": [],
   "source": [
    "health_sal_t6 = health_sal_demo[health_sal_demo['dept_title'].isin(t6)]\n",
    "health_sal_l6 = health_sal_demo[health_sal_demo['dept_title'].isin(l6)]"
   ]
  },
  {
   "cell_type": "code",
   "execution_count": 38,
   "metadata": {},
   "outputs": [
    {
     "data": {
      "text/html": [
       "<div>\n",
       "<style scoped>\n",
       "    .dataframe tbody tr th:only-of-type {\n",
       "        vertical-align: middle;\n",
       "    }\n",
       "\n",
       "    .dataframe tbody tr th {\n",
       "        vertical-align: top;\n",
       "    }\n",
       "\n",
       "    .dataframe thead th {\n",
       "        text-align: right;\n",
       "    }\n",
       "</style>\n",
       "<table border=\"1\" class=\"dataframe\">\n",
       "  <thead>\n",
       "    <tr style=\"text-align: right;\">\n",
       "      <th></th>\n",
       "      <th>dept_title</th>\n",
       "      <th>health_bf</th>\n",
       "      <th>sal</th>\n",
       "    </tr>\n",
       "  </thead>\n",
       "  <tbody>\n",
       "    <tr>\n",
       "      <th>0</th>\n",
       "      <td>Water And Power (DWP)</td>\n",
       "      <td>17111.02</td>\n",
       "      <td>92215.65</td>\n",
       "    </tr>\n",
       "    <tr>\n",
       "      <th>1</th>\n",
       "      <td>Fire</td>\n",
       "      <td>14073.96</td>\n",
       "      <td>142569.04</td>\n",
       "    </tr>\n",
       "    <tr>\n",
       "      <th>2</th>\n",
       "      <td>Public Works - Engineering</td>\n",
       "      <td>11126.88</td>\n",
       "      <td>94372.96</td>\n",
       "    </tr>\n",
       "    <tr>\n",
       "      <th>3</th>\n",
       "      <td>Information Technology Agency</td>\n",
       "      <td>11126.88</td>\n",
       "      <td>120748.32</td>\n",
       "    </tr>\n",
       "    <tr>\n",
       "      <th>5</th>\n",
       "      <td>Water And Power (DWP)</td>\n",
       "      <td>17111.02</td>\n",
       "      <td>98096.62</td>\n",
       "    </tr>\n",
       "  </tbody>\n",
       "</table>\n",
       "</div>"
      ],
      "text/plain": [
       "                      dept_title  health_bf        sal\n",
       "0          Water And Power (DWP)   17111.02   92215.65\n",
       "1                           Fire   14073.96  142569.04\n",
       "2     Public Works - Engineering   11126.88   94372.96\n",
       "3  Information Technology Agency   11126.88  120748.32\n",
       "5          Water And Power (DWP)   17111.02   98096.62"
      ]
     },
     "execution_count": 38,
     "metadata": {},
     "output_type": "execute_result"
    }
   ],
   "source": [
    "health_sal_t6.head()"
   ]
  },
  {
   "cell_type": "code",
   "execution_count": 39,
   "metadata": {},
   "outputs": [],
   "source": [
    "hs_t6 = health_sal_t6.groupby(['dept_title']).sum().reset_index()\n",
    "hs_l6 = health_sal_l6.groupby(['dept_title']).sum().reset_index()"
   ]
  },
  {
   "cell_type": "markdown",
   "metadata": {},
   "source": [
    "##### Plot pie charts of the 6 departments with higher salaries"
   ]
  },
  {
   "cell_type": "code",
   "execution_count": 40,
   "metadata": {},
   "outputs": [
    {
     "data": {
      "image/png": "[encoded data removed]",
      "text/plain": [
       "<Figure size 720x432 with 6 Axes>"
      ]
     },
     "metadata": {},
     "output_type": "display_data"
    }
   ],
   "source": [
    "fig, axes = plt.subplots(2, 3, figsize=(10, 6))\n",
    "for i, (idx, row) in enumerate(hs_t6.set_index('dept_title').iterrows()):\n",
    "    ax = axes[i // 3, i % 3]\n",
    "    row = row[row.gt(row.sum() * .01)]\n",
    "    explode = (0.1, 0.1)\n",
    "    colors = ['#99ff99','#66b3ff']\n",
    "    ax.pie(row, labels=row.index, startangle=30,explode=explode, colors=colors,\\\n",
    "           shadow=True,autopct='%1.1f%%')\n",
    "    ax.set_title(idx)\n",
    "\n",
    "fig.subplots_adjust(wspace=.2)"
   ]
  },
  {
   "cell_type": "markdown",
   "metadata": {},
   "source": [
    "Plot pie charts of the 6 departments with lower salaries"
   ]
  },
  {
   "cell_type": "code",
   "execution_count": 41,
   "metadata": {},
   "outputs": [
    {
     "data": {
      "image/png": "[encoded data removed]",
      "text/plain": [
       "<Figure size 720x432 with 6 Axes>"
      ]
     },
     "metadata": {},
     "output_type": "display_data"
    }
   ],
   "source": [
    "fig, axes = plt.subplots(2, 3, figsize=(10, 6))\n",
    "for i, (idx, row) in enumerate(hs_l6.set_index('dept_title').iterrows()):\n",
    "    ax = axes[i // 3, i % 3]\n",
    "    row = row[row.gt(row.sum() * .01)]\n",
    "    explode = (0.1, 0.1)\n",
    "    colors = ['#ff6666','#ffd11a']\n",
    "    ax.pie(row, labels=row.index, startangle=30,explode=explode, colors=colors,\\\n",
    "           shadow=True,autopct='%1.1f%%')\n",
    "    ax.set_title(idx)\n",
    "\n",
    "fig.subplots_adjust(wspace=.2)"
   ]
  },
  {
   "cell_type": "markdown",
   "metadata": {},
   "source": [
    "By comparing the two visualizations, we cannot tell any huge differences between the percentage of healthcare cost among different salary level employess. It seems like most people are spending about 10%~15% of their salary on healthcare. "
   ]
  },
  {
   "cell_type": "markdown",
   "metadata": {},
   "source": [
    "## Bonus"
   ]
  },
  {
   "cell_type": "markdown",
   "metadata": {},
   "source": [
    "Data Source: https://controllerdata.lacity.org/Budget/City-Budget-Expenditures/uyzw-yi8n\n",
    "\n",
    "The original dataset contains City Budget, Adjustments and Expenditures since Budget Fiscal Year 2012.  For the purpose of convenience, we only kept columns that were associated with City budget. We were projected to imporve our previous analysis by combining the budget dataset and the payroll dataset. Still using the 12 departments we selected before, we were intending to find out What percentage of budget was planning to spend on payrolls? Our hypothesis was that if the payroll budget only took a small portion of the total budget in one department, this department would be more likely to hire part-time or per-event employees.\n",
    "\n",
    "Our vision was to use dept_key as the foreign key to connect the budget table to our previous schema, but unfortunately, the department id in the budget dataset was not the same as the dept_key in the payroll dataset. Therefore, our plan B was to use department name as the foreign key and the primary key in the budget table. Since the primary key has the unique constraint, we calculated each department's total budget from 2013 to 2018."
   ]
  },
  {
   "cell_type": "markdown",
   "metadata": {},
   "source": [
    "#### Wrangling\n",
    "Besides removing unrelated column, majority our data wrangling processes involved matching department names because all department names were written in all capital letters. Also, we removed departments that did not appear in the payroll dataset.\n",
    "\n",
    "#### Schema"
   ]
  },
  {
   "cell_type": "code",
   "execution_count": null,
   "metadata": {},
   "outputs": [],
   "source": [
    "from IPython.display import Image\n",
    "Image(url=\"https://s3.amazonaws.com/istm6212final/schema_bonus.png\")  "
   ]
  },
  {
   "cell_type": "code",
   "execution_count": null,
   "metadata": {},
   "outputs": [],
   "source": [
    "!wget https://s3.amazonaws.com/istm6212final/City_Budget_Expenditures_wg.csv"
   ]
  },
  {
   "cell_type": "code",
   "execution_count": null,
   "metadata": {},
   "outputs": [],
   "source": [
    "!mv City_Budget_Expenditures_wg.csv budget.csv"
   ]
  },
  {
   "cell_type": "code",
   "execution_count": null,
   "metadata": {},
   "outputs": [],
   "source": [
    "!head -n 5 budget.csv"
   ]
  },
  {
   "cell_type": "code",
   "execution_count": null,
   "metadata": {},
   "outputs": [],
   "source": [
    "!wc -l budget.csv"
   ]
  },
  {
   "cell_type": "code",
   "execution_count": null,
   "metadata": {},
   "outputs": [],
   "source": [
    "!cat budget.csv | csvstat"
   ]
  },
  {
   "cell_type": "code",
   "execution_count": 42,
   "metadata": {},
   "outputs": [
    {
     "name": "stdout",
     "output_type": "stream",
     "text": [
      " * postgresql://student@/final_proj\n",
      "Done.\n",
      "Done.\n"
     ]
    },
    {
     "data": {
      "text/plain": [
       "[]"
      ]
     },
     "execution_count": 42,
     "metadata": {},
     "output_type": "execute_result"
    }
   ],
   "source": [
    "%%sql\n",
    "DROP TABLE IF EXISTS budget;\n",
    "\n",
    "CREATE TABLE budget (\n",
    "    year VARCHAR,\n",
    "    dept_name VARCHAR,\n",
    "    fund VARCHAR,\n",
    "    account VARCHAR,\n",
    "    total_budget NUMERIC,\n",
    "    dept_id VARCHAR\n",
    ")"
   ]
  },
  {
   "cell_type": "code",
   "execution_count": 43,
   "metadata": {},
   "outputs": [],
   "source": [
    "!cp budget.csv /tmp/budget.csv"
   ]
  },
  {
   "cell_type": "code",
   "execution_count": 44,
   "metadata": {},
   "outputs": [
    {
     "name": "stdout",
     "output_type": "stream",
     "text": [
      " * postgresql://student@/final_proj\n",
      "15035 rows affected.\n"
     ]
    },
    {
     "data": {
      "text/plain": [
       "[]"
      ]
     },
     "execution_count": 44,
     "metadata": {},
     "output_type": "execute_result"
    }
   ],
   "source": [
    "%%sql\n",
    "COPY budget FROM '/tmp/budget.csv'\n",
    "CSV\n",
    "HEADER;"
   ]
  },
  {
   "cell_type": "code",
   "execution_count": 45,
   "metadata": {},
   "outputs": [
    {
     "name": "stdout",
     "output_type": "stream",
     "text": [
      " * postgresql://student@/final_proj\n",
      "10 rows affected.\n"
     ]
    },
    {
     "data": {
      "text/html": [
       "<table>\n",
       "    <tr>\n",
       "        <th>year</th>\n",
       "        <th>dept_name</th>\n",
       "        <th>fund</th>\n",
       "        <th>account</th>\n",
       "        <th>total_budget</th>\n",
       "        <th>dept_id</th>\n",
       "    </tr>\n",
       "    <tr>\n",
       "        <td>2013</td>\n",
       "        <td>City Attorney</td>\n",
       "        <td>CITY ATTORNEY GRANTS</td>\n",
       "        <td>FY 2012 PSN</td>\n",
       "        <td>1788.00</td>\n",
       "        <td>12</td>\n",
       "    </tr>\n",
       "    <tr>\n",
       "        <td>2013</td>\n",
       "        <td>Economic and Workforce Development Department</td>\n",
       "        <td>ARRA-COMMUNITY DEV BLOCK GRANT</td>\n",
       "        <td>REIMBURSEMENT OF GENERAL FUND COSTS</td>\n",
       "        <td>24285.12</td>\n",
       "        <td>22</td>\n",
       "    </tr>\n",
       "    <tr>\n",
       "        <td>2013</td>\n",
       "        <td>Economic and Workforce Development Department</td>\n",
       "        <td>CDD - GAS CO. - CPUC</td>\n",
       "        <td>GAS CO/CPUC-GSD</td>\n",
       "        <td>100000.00</td>\n",
       "        <td>22</td>\n",
       "    </tr>\n",
       "    <tr>\n",
       "        <td>2013</td>\n",
       "        <td>Cultural Affairs</td>\n",
       "        <td>CULTURAL AFFAIRS DEPT TRUST</td>\n",
       "        <td>CULTURAL AFFAIRS</td>\n",
       "        <td>22250.00</td>\n",
       "        <td>30</td>\n",
       "    </tr>\n",
       "    <tr>\n",
       "        <td>2013</td>\n",
       "        <td>City Ethics Commission</td>\n",
       "        <td>MATCHING CAMPAIGN FUND TRUST</td>\n",
       "        <td>COUNCIL DISTRICT 13 CANDIDATES</td>\n",
       "        <td>1005253.88</td>\n",
       "        <td>17</td>\n",
       "    </tr>\n",
       "    <tr>\n",
       "        <td>2013</td>\n",
       "        <td>Recreation And Parks</td>\n",
       "        <td>RECREATION AND PARKS</td>\n",
       "        <td>ELYSIAN PARK-F GLASS ESTATE</td>\n",
       "        <td>0.00</td>\n",
       "        <td>89</td>\n",
       "    </tr>\n",
       "    <tr>\n",
       "        <td>2013</td>\n",
       "        <td>City Administrative Officer</td>\n",
       "        <td>INSURANCE PREMIUMS SPECIAL FD</td>\n",
       "        <td>FINANCE</td>\n",
       "        <td>12955.56</td>\n",
       "        <td>10</td>\n",
       "    </tr>\n",
       "    <tr>\n",
       "        <td>2013</td>\n",
       "        <td>Mayor</td>\n",
       "        <td>FY12 JUVENILE ACCOUNT BLOCK GR</td>\n",
       "        <td>CITY ATTORNEY</td>\n",
       "        <td>168728.00</td>\n",
       "        <td>46</td>\n",
       "    </tr>\n",
       "    <tr>\n",
       "        <td>2013</td>\n",
       "        <td>Recreation And Parks</td>\n",
       "        <td>RECREATION AND PARKS</td>\n",
       "        <td>NEPTUNE SRVC YARD BLDG LEAD AB</td>\n",
       "        <td>0.00</td>\n",
       "        <td>89</td>\n",
       "    </tr>\n",
       "    <tr>\n",
       "        <td>2013</td>\n",
       "        <td>Harbor</td>\n",
       "        <td>CHINA SHIPPING MITIGATION FUND</td>\n",
       "        <td>OTHER EXPENDITURES</td>\n",
       "        <td>0.00</td>\n",
       "        <td>42</td>\n",
       "    </tr>\n",
       "</table>"
      ],
      "text/plain": [
       "[('2013', 'City Attorney', 'CITY ATTORNEY GRANTS', 'FY 2012 PSN', Decimal('1788.00'), '12'),\n",
       " ('2013', 'Economic and Workforce Development Department', 'ARRA-COMMUNITY DEV BLOCK GRANT', 'REIMBURSEMENT OF GENERAL FUND COSTS', Decimal('24285.12'), '22'),\n",
       " ('2013', 'Economic and Workforce Development Department', 'CDD - GAS CO. - CPUC', 'GAS CO/CPUC-GSD', Decimal('100000.00'), '22'),\n",
       " ('2013', 'Cultural Affairs', 'CULTURAL AFFAIRS DEPT TRUST', 'CULTURAL AFFAIRS', Decimal('22250.00'), '30'),\n",
       " ('2013', 'City Ethics Commission', 'MATCHING CAMPAIGN FUND TRUST', 'COUNCIL DISTRICT 13 CANDIDATES', Decimal('1005253.88'), '17'),\n",
       " ('2013', 'Recreation And Parks', 'RECREATION AND PARKS', 'ELYSIAN PARK-F GLASS ESTATE', Decimal('0.00'), '89'),\n",
       " ('2013', 'City Administrative Officer', 'INSURANCE PREMIUMS SPECIAL FD', 'FINANCE', Decimal('12955.56'), '10'),\n",
       " ('2013', 'Mayor', 'FY12 JUVENILE ACCOUNT BLOCK GR', 'CITY ATTORNEY', Decimal('168728.00'), '46'),\n",
       " ('2013', 'Recreation And Parks', 'RECREATION AND PARKS', 'NEPTUNE SRVC YARD BLDG LEAD AB', Decimal('0.00'), '89'),\n",
       " ('2013', 'Harbor', 'CHINA SHIPPING MITIGATION FUND', 'OTHER EXPENDITURES', Decimal('0.00'), '42')]"
      ]
     },
     "execution_count": 45,
     "metadata": {},
     "output_type": "execute_result"
    }
   ],
   "source": [
    "%%sql\n",
    "SELECT * FROM budget\n",
    "LIMIT 10;"
   ]
  },
  {
   "cell_type": "markdown",
   "metadata": {},
   "source": [
    "Some departments in the payroll dataset were not included in the budget dataset, so in order to set up the foreign key properly, we add those missing department to \"dept_name\" while having nulls in other columns."
   ]
  },
  {
   "cell_type": "code",
   "execution_count": 46,
   "metadata": {},
   "outputs": [
    {
     "name": "stdout",
     "output_type": "stream",
     "text": [
      " * postgresql://student@/final_proj\n",
      "5 rows affected.\n"
     ]
    },
    {
     "data": {
      "text/plain": [
       "[]"
      ]
     },
     "execution_count": 46,
     "metadata": {},
     "output_type": "execute_result"
    }
   ],
   "source": [
    "%%sql\n",
    "INSERT INTO budget (dept_name)\n",
    "SELECT dept_title\n",
    "FROM payroll_dept AS p\n",
    "WHERE NOT EXISTS(\n",
    "  SELECT dept_name\n",
    "  FROM budget\n",
    "  WHERE dept_name = p.dept_title\n",
    ")"
   ]
  },
  {
   "cell_type": "markdown",
   "metadata": {},
   "source": [
    "#### Build a table of each department's total budget from 2013 to 2018"
   ]
  },
  {
   "cell_type": "code",
   "execution_count": 47,
   "metadata": {},
   "outputs": [
    {
     "name": "stdout",
     "output_type": "stream",
     "text": [
      " * postgresql://student@/final_proj\n",
      "Done.\n",
      "Done.\n"
     ]
    },
    {
     "data": {
      "text/plain": [
       "[]"
      ]
     },
     "execution_count": 47,
     "metadata": {},
     "output_type": "execute_result"
    }
   ],
   "source": [
    "%%sql\n",
    "DROP TABLE IF EXISTS budget_sum;\n",
    "CREATE TABLE budget_sum(\n",
    "    dept_name VARCHAR PRIMARY KEY,\n",
    "    budget_sum NUMERIC\n",
    ");"
   ]
  },
  {
   "cell_type": "code",
   "execution_count": 48,
   "metadata": {},
   "outputs": [
    {
     "name": "stdout",
     "output_type": "stream",
     "text": [
      " * postgresql://student@/final_proj\n",
      "48 rows affected.\n"
     ]
    },
    {
     "data": {
      "text/plain": [
       "[]"
      ]
     },
     "execution_count": 48,
     "metadata": {},
     "output_type": "execute_result"
    }
   ],
   "source": [
    "%%sql\n",
    "INSERT INTO budget_sum\n",
    "SELECT dept_name, SUM (total_budget) AS total_budget\n",
    "FROM budget \n",
    "GROUP BY dept_name;"
   ]
  },
  {
   "cell_type": "code",
   "execution_count": 49,
   "metadata": {},
   "outputs": [
    {
     "name": "stdout",
     "output_type": "stream",
     "text": [
      " * postgresql://student@/final_proj\n",
      "Done.\n"
     ]
    },
    {
     "data": {
      "text/plain": [
       "[]"
      ]
     },
     "execution_count": 49,
     "metadata": {},
     "output_type": "execute_result"
    }
   ],
   "source": [
    "%%sql\n",
    "ALTER TABLE payroll_dept\n",
    "ADD FOREIGN KEY (dept_title) REFERENCES budget_sum(dept_name)"
   ]
  },
  {
   "cell_type": "code",
   "execution_count": 61,
   "metadata": {},
   "outputs": [
    {
     "name": "stdout",
     "output_type": "stream",
     "text": [
      " * postgresql://student@/final_proj\n",
      "10 rows affected.\n"
     ]
    },
    {
     "data": {
      "text/html": [
       "<table>\n",
       "    <tr>\n",
       "        <th>dept_name</th>\n",
       "        <th>budget_sum</th>\n",
       "    </tr>\n",
       "    <tr>\n",
       "        <td>Public Works - Sanitation</td>\n",
       "        <td>1466966183.95</td>\n",
       "    </tr>\n",
       "    <tr>\n",
       "        <td>Pension</td>\n",
       "        <td>7033708878.74</td>\n",
       "    </tr>\n",
       "    <tr>\n",
       "        <td>Harbor</td>\n",
       "        <td>0.00</td>\n",
       "    </tr>\n",
       "    <tr>\n",
       "        <td>City Clerk</td>\n",
       "        <td>218608584.12</td>\n",
       "    </tr>\n",
       "    <tr>\n",
       "        <td>City Administrative Officer</td>\n",
       "        <td>9496644271.07</td>\n",
       "    </tr>\n",
       "    <tr>\n",
       "        <td>Treasurer</td>\n",
       "        <td>None</td>\n",
       "    </tr>\n",
       "    <tr>\n",
       "        <td>Aging</td>\n",
       "        <td>181101832.00</td>\n",
       "    </tr>\n",
       "    <tr>\n",
       "        <td>Human Relations Commission</td>\n",
       "        <td>None</td>\n",
       "    </tr>\n",
       "    <tr>\n",
       "        <td>Office of Finance</td>\n",
       "        <td>1091841870.50</td>\n",
       "    </tr>\n",
       "    <tr>\n",
       "        <td>El Pueblo De Los Angeles Historical Monument Authority</td>\n",
       "        <td>39918911.14</td>\n",
       "    </tr>\n",
       "</table>"
      ],
      "text/plain": [
       "[('Public Works - Sanitation', Decimal('1466966183.95')),\n",
       " ('Pension', Decimal('7033708878.74')),\n",
       " ('Harbor', Decimal('0.00')),\n",
       " ('City Clerk', Decimal('218608584.12')),\n",
       " ('City Administrative Officer', Decimal('9496644271.07')),\n",
       " ('Treasurer', None),\n",
       " ('Aging', Decimal('181101832.00')),\n",
       " ('Human Relations Commission', None),\n",
       " ('Office of Finance', Decimal('1091841870.50')),\n",
       " ('El Pueblo De Los Angeles Historical Monument Authority', Decimal('39918911.14'))]"
      ]
     },
     "execution_count": 61,
     "metadata": {},
     "output_type": "execute_result"
    }
   ],
   "source": [
    "%%sql\n",
    "SELECT * FROM budget_sum\n",
    "LIMIT 10;"
   ]
  },
  {
   "cell_type": "markdown",
   "metadata": {},
   "source": [
    "#### Build a table of departments' payroll budgets and other budgets"
   ]
  },
  {
   "cell_type": "code",
   "execution_count": 57,
   "metadata": {},
   "outputs": [
    {
     "name": "stdout",
     "output_type": "stream",
     "text": [
      " * postgresql://student@/final_proj\n",
      "Done.\n",
      "Done.\n"
     ]
    },
    {
     "data": {
      "text/plain": [
       "[]"
      ]
     },
     "execution_count": 57,
     "metadata": {},
     "output_type": "execute_result"
    }
   ],
   "source": [
    "%%sql\n",
    "DROP TABLE IF EXISTS sal_budg;\n",
    "CREATE TABLE sal_budg(\n",
    "    dept_title VARCHAR,\n",
    "    salary_budget NUMERIC,\n",
    "    other_budget NUMERIC\n",
    ")"
   ]
  },
  {
   "cell_type": "code",
   "execution_count": 58,
   "metadata": {},
   "outputs": [
    {
     "name": "stdout",
     "output_type": "stream",
     "text": [
      " * postgresql://student@/final_proj\n",
      "48 rows affected.\n"
     ]
    },
    {
     "data": {
      "text/plain": [
       "[]"
      ]
     },
     "execution_count": 58,
     "metadata": {},
     "output_type": "execute_result"
    }
   ],
   "source": [
    "%%sql\n",
    "INSERT INTO sal_budg\n",
    "SELECT b.dept_name, SUM(s.projected_annual_sal), (b.budget_sum-SUM(s.projected_annual_sal))\n",
    "FROM (\n",
    "    SELECT sf.*, p.dept_title\n",
    "    FROM salary_fact AS sf\n",
    "    JOIN payroll_dept AS p\n",
    "    ON sf.dept_key = p.dept_key\n",
    ")s\n",
    "JOIN budget_sum AS b\n",
    "ON s.dept_title = b.dept_name\n",
    "GROUP BY b.dept_name;"
   ]
  },
  {
   "cell_type": "code",
   "execution_count": 60,
   "metadata": {},
   "outputs": [
    {
     "name": "stdout",
     "output_type": "stream",
     "text": [
      " * postgresql://student@/final_proj\n",
      "10 rows affected.\n"
     ]
    },
    {
     "data": {
      "text/html": [
       "<table>\n",
       "    <tr>\n",
       "        <th>dept_title</th>\n",
       "        <th>salary_budget</th>\n",
       "        <th>other_budget</th>\n",
       "    </tr>\n",
       "    <tr>\n",
       "        <td>Public Works - Sanitation</td>\n",
       "        <td>1456499022.53</td>\n",
       "        <td>10467161.42</td>\n",
       "    </tr>\n",
       "    <tr>\n",
       "        <td>Pension</td>\n",
       "        <td>71510644.62</td>\n",
       "        <td>6962198234.12</td>\n",
       "    </tr>\n",
       "    <tr>\n",
       "        <td>Harbor</td>\n",
       "        <td>613514725.99</td>\n",
       "        <td>-613514725.99</td>\n",
       "    </tr>\n",
       "    <tr>\n",
       "        <td>Treasurer</td>\n",
       "        <td>880217.28</td>\n",
       "        <td>None</td>\n",
       "    </tr>\n",
       "    <tr>\n",
       "        <td>Human Relations Commission</td>\n",
       "        <td>135511.2</td>\n",
       "        <td>None</td>\n",
       "    </tr>\n",
       "    <tr>\n",
       "        <td>Office of Finance</td>\n",
       "        <td>193813206.58</td>\n",
       "        <td>898028663.92</td>\n",
       "    </tr>\n",
       "    <tr>\n",
       "        <td>Public Works - Contract Administration</td>\n",
       "        <td>184586646.97</td>\n",
       "        <td>15629502.53</td>\n",
       "    </tr>\n",
       "    <tr>\n",
       "        <td>Zoo</td>\n",
       "        <td>131994168.90</td>\n",
       "        <td>115309779.24</td>\n",
       "    </tr>\n",
       "    <tr>\n",
       "        <td>Commission on the Status of Women</td>\n",
       "        <td>108784.80</td>\n",
       "        <td>None</td>\n",
       "    </tr>\n",
       "    <tr>\n",
       "        <td>Public Works - Engineering</td>\n",
       "        <td>520823234.82</td>\n",
       "        <td>-6036262.19</td>\n",
       "    </tr>\n",
       "</table>"
      ],
      "text/plain": [
       "[('Public Works - Sanitation', Decimal('1456499022.53'), Decimal('10467161.42')),\n",
       " ('Pension', Decimal('71510644.62'), Decimal('6962198234.12')),\n",
       " ('Harbor', Decimal('613514725.99'), Decimal('-613514725.99')),\n",
       " ('Treasurer', Decimal('880217.28'), None),\n",
       " ('Human Relations Commission', Decimal('135511.2'), None),\n",
       " ('Office of Finance', Decimal('193813206.58'), Decimal('898028663.92')),\n",
       " ('Public Works - Contract Administration', Decimal('184586646.97'), Decimal('15629502.53')),\n",
       " ('Zoo', Decimal('131994168.90'), Decimal('115309779.24')),\n",
       " ('Commission on the Status of Women', Decimal('108784.80'), None),\n",
       " ('Public Works - Engineering', Decimal('520823234.82'), Decimal('-6036262.19'))]"
      ]
     },
     "execution_count": 60,
     "metadata": {},
     "output_type": "execute_result"
    }
   ],
   "source": [
    "%%sql\n",
    "SELECT * FROM sal_budg\n",
    "LIMIT 10;"
   ]
  },
  {
   "cell_type": "markdown",
   "metadata": {},
   "source": [
    "### What percentage of budget was planned to spend on payrolls? \n",
    "\n",
    "Extract data of the 12 departments we picked previously."
   ]
  },
  {
   "cell_type": "code",
   "execution_count": 62,
   "metadata": {},
   "outputs": [],
   "source": [
    "sal_budg = pd.read_sql_query('SELECT * FROM sal_budg',con=engine)"
   ]
  },
  {
   "cell_type": "code",
   "execution_count": 63,
   "metadata": {},
   "outputs": [],
   "source": [
    "sal_budg_t6 = sal_budg[sal_budg['dept_title'].isin(t6)]\n",
    "sal_budg_l6 = sal_budg[sal_budg['dept_title'].isin(l6)]"
   ]
  },
  {
   "cell_type": "markdown",
   "metadata": {},
   "source": [
    "Exclude departments with negative \"other_budget\""
   ]
  },
  {
   "cell_type": "code",
   "execution_count": 64,
   "metadata": {},
   "outputs": [],
   "source": [
    "sal_budg_t6 = sal_budg_t6[sal_budg_t6['other_budget'] > 0]\n",
    "sal_budg_l6 = sal_budg_l6[sal_budg_l6['other_budget'] > 0]"
   ]
  },
  {
   "cell_type": "markdown",
   "metadata": {},
   "source": [
    "##### Departments with higher salaries"
   ]
  },
  {
   "cell_type": "code",
   "execution_count": 70,
   "metadata": {},
   "outputs": [
    {
     "data": {
      "image/png": "[encoded data removed]",
      "text/plain": [
       "<Figure size 576x576 with 4 Axes>"
      ]
     },
     "metadata": {},
     "output_type": "display_data"
    }
   ],
   "source": [
    "fig, axes = plt.subplots(2, 2, figsize=(8, 8))\n",
    "for i, (idx, row) in enumerate(sal_budg_t6.set_index('dept_title').iterrows()):\n",
    "    ax = axes[i // 2, i % 2]\n",
    "    row = row[row.gt(row.sum() * .01)]\n",
    "    colors = ['#80aaff','#ff9966']\n",
    "    ax.pie(row, labels=row.index, startangle=30,\\\n",
    "           shadow=True,autopct='%1.1f%%',colors=colors)\n",
    "    ax.set_title(idx)\n",
    "\n",
    "fig.subplots_adjust(wspace=.2)"
   ]
  },
  {
   "cell_type": "markdown",
   "metadata": {},
   "source": [
    "##### Departments with lower salaries"
   ]
  },
  {
   "cell_type": "code",
   "execution_count": 71,
   "metadata": {},
   "outputs": [
    {
     "data": {
      "image/png": "[encoded data removed]",
      "text/plain": [
       "<Figure size 720x432 with 6 Axes>"
      ]
     },
     "metadata": {
      "needs_background": "light"
     },
     "output_type": "display_data"
    }
   ],
   "source": [
    "fig, axes = plt.subplots(2, 3, figsize=(10, 6))\n",
    "for i, (idx, row) in enumerate(sal_budg_l6.set_index('dept_title').iterrows()):\n",
    "    ax = axes[i // 3, i % 3]\n",
    "    row = row[row.gt(row.sum() * .01)]\n",
    "    colors = ['#99ff99','#66b3ff']\n",
    "    ax.pie(row, labels=row.index, startangle=30, colors = colors,\\\n",
    "           shadow=True,autopct='%1.1f%%')\n",
    "    ax.set_title(idx)\n",
    "\n",
    "fig.subplots_adjust(wspace=.2)"
   ]
  },
  {
   "cell_type": "markdown",
   "metadata": {},
   "source": [
    "According to the pie charts, payroll budget took up more than 90% of the total budget in the department of Police, City Attorney and Recreation and Parks. Those ratio looks odd compared to other departments we examined. This situation could be what actually happened, but it could also be caused by faulty data."
   ]
  },
  {
   "cell_type": "code",
   "execution_count": null,
   "metadata": {},
   "outputs": [],
   "source": []
  }
 ],
 "metadata": {
  "kernelspec": {
   "display_name": "Python 3",
   "language": "python",
   "name": "python3"
  },
  "language_info": {
   "codemirror_mode": {
    "name": "ipython",
    "version": 3
   },
   "file_extension": ".py",
   "mimetype": "text/x-python",
   "name": "python",
   "nbconvert_exporter": "python",
   "pygments_lexer": "ipython3",
   "version": "3.5.3"
  }
 },
 "nbformat": 4,
 "nbformat_minor": 2
}
